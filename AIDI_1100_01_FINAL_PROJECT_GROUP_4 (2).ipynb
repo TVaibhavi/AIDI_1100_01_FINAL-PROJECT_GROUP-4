{
  "nbformat": 4,
  "nbformat_minor": 0,
  "metadata": {
    "colab": {
      "name": "AIDI_1100_01_FINAL_PROJECT_GROUP_4.ipynb",
      "provenance": [],
      "collapsed_sections": []
    },
    "kernelspec": {
      "display_name": "Python 3",
      "language": "python",
      "name": "python3"
    },
    "language_info": {
      "codemirror_mode": {
        "name": "ipython",
        "version": 3
      },
      "file_extension": ".py",
      "mimetype": "text/x-python",
      "name": "python",
      "nbconvert_exporter": "python",
      "pygments_lexer": "ipython3",
      "version": "3.8.3"
    }
  },
  "cells": [
    {
      "cell_type": "markdown",
      "source": [
        "#AIDI 1100_01 \n",
        "#FINAL PROJECT\n",
        "#GROUP4"
      ],
      "metadata": {
        "id": "SnWeXhs1UFAd"
      }
    },
    {
      "cell_type": "code",
      "metadata": {
        "id": "NhsP2fCmErLx"
      },
      "source": [
        "#To import all the required libraries\n",
        "\n",
        "import requests\n",
        "from bs4 import BeautifulSoup\n",
        "import datetime\n",
        "import csv\n",
        "import pandas as pd\n",
        "import re\n",
        "import matplotlib.pyplot as plt"
      ],
      "execution_count": 1,
      "outputs": []
    },
    {
      "cell_type": "code",
      "source": [
        "# Global Variables\n",
        "arr_Date = []\n",
        "arr_newsTitle = []\n",
        "arr_newsPara = []\n",
        "arr_newsUrl = []\n",
        "selected_stock= []\n",
        "\n",
        "Total_Days = 7 #Number of days to fetch\n",
        "StockSymbol_Required = 2 #Number of stock symbols to compare\n",
        "currentDate = datetime.datetime.now()\n",
        "tempDate = currentDate\n",
        "stockPeriod = 60\n",
        "strEndDate = datetime.date.strftime(currentDate, \"%Y-%m-%d\")\n",
        "strStartDate = datetime.date.strftime(currentDate - datetime.timedelta(days=stockPeriod), \"%Y-%m-%d\")\n",
        "strFiveYearDate = datetime.date.strftime(currentDate.replace(year=currentDate.year - 5), \"%Y-%m-%d\")\n",
        "StockIndustry_Search = ''"
      ],
      "metadata": {
        "id": "8lb3C5gf9oW2"
      },
      "execution_count": 2,
      "outputs": []
    },
    {
      "cell_type": "markdown",
      "source": [
        "#Data Extraction Methods"
      ],
      "metadata": {
        "id": "N0QeZRlEjJlT"
      }
    },
    {
      "cell_type": "code",
      "metadata": {
        "id": "X94SpdEOEg95"
      },
      "source": [
        "#To fetch the news url\n",
        "def getNewsUrl():\n",
        "  News_URL = \"https://www.prnewswire.com/news-releases/news-releases-list/?\"\n",
        "  return News_URL\n",
        "\n",
        "#To prepare url by appending month-day-year to the above url to fetch the details\n",
        "def prepare_URL(dayToFetch) -> str:\n",
        "  news_url = getNewsUrl()\n",
        "  urlByDay = news_url + 'month=' + str(currentDate.month) + '&day=' + str(dayToFetch) + '&year=' + str(currentDate.year) + '&hour=00&page=1&pagesize=100'\n",
        "  return urlByDay\n",
        "\n",
        "#***************************************************************************\n",
        "#function name : parse_News\n",
        "#function Task : To parse news url using BeautifulSoup and fetch the required \n",
        "#content from the parse data\n",
        "#input value   : forDay - current day to past 7 days\n",
        "#***************************************************************************\n",
        "def parse_News(forDay):\n",
        "  url = prepare_URL(forDay)\n",
        "  page = requests.get(url)\n",
        "  soup = BeautifulSoup(page.content, \"html.parser\")\n",
        "\n",
        "  # To extract main layout content\n",
        "  main = soup.find_all('main',class_='headline-listing')\n",
        "\n",
        "  for elements in main:\n",
        "    lstContainer = elements.find_all('section',class_='container')\n",
        "    for mainHead in lstContainer:\n",
        "      row = mainHead.find_all('div',class_='row')\n",
        "      for mainCol in row:\n",
        "        rowList = mainCol.find_all('div',class_='col-md-8 col-sm-8 card-list card-list-hr')\n",
        "        for newsCard in rowList:\n",
        "          newsLst = newsCard.find_all('a',class_='newsreleaseconsolidatelink')\n",
        "          for content in newsLst:\n",
        "            href = content.get('href')\n",
        "            small = content.h3.small.text\n",
        "            content.h3.small.decompose()\n",
        "            h3 = content.h3.text.replace(\"\\n\", \"\")\n",
        "            p =  content.p.text\n",
        "            arr_Date.append(small)\n",
        "            arr_newsTitle.append(h3)\n",
        "            arr_newsPara.append(p)\n",
        "            arr_newsUrl.append(href)\n",
        "\n",
        "#***************************************************************************\n",
        "#function name : fetchNewsData\n",
        "#function Task :while loop iterate for given days here - 7 days\n",
        "#function Called: parse_News()\n",
        "#***************************************************************************\n",
        "def fetchNewsData():\n",
        "  #Fetch & Parse data of last week\n",
        "  i = 0\n",
        "  print('Fetching Data....')\n",
        "  while i < Total_Days:\n",
        "    parse_News(currentDate.day - i)\n",
        "    i = i + 1\n",
        "  print('Download completed....')"
      ],
      "execution_count": 3,
      "outputs": []
    },
    {
      "cell_type": "markdown",
      "source": [
        "**Fetch Data**"
      ],
      "metadata": {
        "id": "wGDQ0EAbjOmN"
      }
    },
    {
      "cell_type": "code",
      "source": [
        "#To initialise the fetching of data from news url and parse the details\n",
        "fetchNewsData()"
      ],
      "metadata": {
        "colab": {
          "base_uri": "https://localhost:8080/"
        },
        "id": "Q2PFKtzqbSsy",
        "outputId": "eddc48e9-f4d9-42c8-8b29-6bcf259ba58c"
      },
      "execution_count": 4,
      "outputs": [
        {
          "output_type": "stream",
          "name": "stdout",
          "text": [
            "Fetching Data....\n",
            "Download completed....\n"
          ]
        }
      ]
    },
    {
      "cell_type": "markdown",
      "source": [
        "#Data Storing"
      ],
      "metadata": {
        "id": "4VmyGx1ajWz2"
      }
    },
    {
      "cell_type": "code",
      "metadata": {
        "colab": {
          "base_uri": "https://localhost:8080/",
          "height": 293
        },
        "id": "5pURL0S_bEMe",
        "outputId": "d86318f6-88b1-492e-c48c-bbc05621d881"
      },
      "source": [
        "# Write data to csv\n",
        "dictNews = {'Date': arr_Date, 'Title': arr_newsTitle, 'Content': arr_newsPara, 'Url': arr_newsUrl}\n",
        "df = pd.DataFrame(dictNews)\n",
        "df.to_csv('newsData.csv')\n",
        "df.head()"
      ],
      "execution_count": 5,
      "outputs": [
        {
          "output_type": "execute_result",
          "data": {
            "text/html": [
              "<div>\n",
              "<style scoped>\n",
              "    .dataframe tbody tr th:only-of-type {\n",
              "        vertical-align: middle;\n",
              "    }\n",
              "\n",
              "    .dataframe tbody tr th {\n",
              "        vertical-align: top;\n",
              "    }\n",
              "\n",
              "    .dataframe thead th {\n",
              "        text-align: right;\n",
              "    }\n",
              "</style>\n",
              "<table border=\"1\" class=\"dataframe\">\n",
              "  <thead>\n",
              "    <tr style=\"text-align: right;\">\n",
              "      <th></th>\n",
              "      <th>Date</th>\n",
              "      <th>Title</th>\n",
              "      <th>Content</th>\n",
              "      <th>Url</th>\n",
              "    </tr>\n",
              "  </thead>\n",
              "  <tbody>\n",
              "    <tr>\n",
              "      <th>0</th>\n",
              "      <td>00:00 ET</td>\n",
              "      <td>SHAREHOLDER INVESTIGATION: Halper Sadeh LLP In...</td>\n",
              "      <td>Halper Sadeh LLP, a global investor rights law...</td>\n",
              "      <td>/news-releases/shareholder-investigation-halpe...</td>\n",
              "    </tr>\n",
              "    <tr>\n",
              "      <th>1</th>\n",
              "      <td>00:00 ET</td>\n",
              "      <td>EMAAR NEW YEAR'S EVE CELEBRATIONS INVITE THE W...</td>\n",
              "      <td>Emaar, the UAE's globally renowned and recogni...</td>\n",
              "      <td>/news-releases/emaar-new-years-eve-celebration...</td>\n",
              "    </tr>\n",
              "    <tr>\n",
              "      <th>2</th>\n",
              "      <td>Dec 13, 2021, 23:55 ET</td>\n",
              "      <td>SHAREHOLDER ALERT: Pomerantz Law Firm Investig...</td>\n",
              "      <td>Pomerantz LLP is investigating claims on behal...</td>\n",
              "      <td>/news-releases/shareholder-alert-pomerantz-law...</td>\n",
              "    </tr>\n",
              "    <tr>\n",
              "      <th>3</th>\n",
              "      <td>Dec 13, 2021, 23:55 ET</td>\n",
              "      <td>SHAREHOLDER ALERT: Pomerantz Law Firm Investig...</td>\n",
              "      <td>Pomerantz LLP is investigating claims on behal...</td>\n",
              "      <td>/news-releases/shareholder-alert-pomerantz-law...</td>\n",
              "    </tr>\n",
              "    <tr>\n",
              "      <th>4</th>\n",
              "      <td>Dec 13, 2021, 23:50 ET</td>\n",
              "      <td>Orelabrutinib Data Presented at the 63rd Annua...</td>\n",
              "      <td>InnoCare Pharma (HKEX: 09969), a leading biote...</td>\n",
              "      <td>/news-releases/orelabrutinib-data-presented-at...</td>\n",
              "    </tr>\n",
              "  </tbody>\n",
              "</table>\n",
              "</div>"
            ],
            "text/plain": [
              "                     Date  ...                                                Url\n",
              "0                00:00 ET  ...  /news-releases/shareholder-investigation-halpe...\n",
              "1                00:00 ET  ...  /news-releases/emaar-new-years-eve-celebration...\n",
              "2  Dec 13, 2021, 23:55 ET  ...  /news-releases/shareholder-alert-pomerantz-law...\n",
              "3  Dec 13, 2021, 23:55 ET  ...  /news-releases/shareholder-alert-pomerantz-law...\n",
              "4  Dec 13, 2021, 23:50 ET  ...  /news-releases/orelabrutinib-data-presented-at...\n",
              "\n",
              "[5 rows x 4 columns]"
            ]
          },
          "metadata": {},
          "execution_count": 5
        }
      ]
    },
    {
      "cell_type": "markdown",
      "source": [
        "#Get & Search Stock Industry"
      ],
      "metadata": {
        "id": "E_vJovSmjacV"
      }
    },
    {
      "cell_type": "code",
      "metadata": {
        "id": "KQg2gxYatw2J"
      },
      "source": [
        "#***************************************************************************\n",
        "#function name : isValidInput\n",
        "#function Task :To validate the input provide is in the range of 1 to 3\n",
        "#function input : val - the value entered by the user\n",
        "#***************************************************************************\n",
        "def isValidInput(val):\n",
        "  try:\n",
        "    int(val)\n",
        "    return True\n",
        "  except ValueError:\n",
        "    print('\\nINVALID INPUT: Please enter numeric choice\\n')\n",
        "    return False\n",
        "\n",
        "#*********************************************************************************\n",
        "#function name : showCompanyList\n",
        "#function Task :To show the list of 3 stock industry to ask for input from user \n",
        "#function input : no arguement passed\n",
        "#return Value : returns bool value if entered value is with in the range of 1 to 3\n",
        "#returns true else returns false\n",
        "#*********************************************************************************\n",
        "def showCompanyList():\n",
        "  print('SELECT INDUSTRY TO GET STOCK SYMBOLS:\\n')\n",
        "  print(\" 1.NYSE (New York Stock Exchange) \\n 2.TSX (Toronto Stock Exchange) \\n 3.NASDAQ (National Association of Securities Dealers Automated Quotation)\")\n",
        "  choice = input(\"\\nEnter numerical choice: \")\n",
        "  if isValidInput(choice) == True:\n",
        "    return int(choice)\n",
        "  else:\n",
        "    return 0\n",
        "  \n",
        "#To get stock company list and to validate the input provided\n",
        "def chooseStockIndustry():\n",
        "  getChoice = showCompanyList()\n",
        "  if (getChoice < 4 and getChoice > 0):\n",
        "    global StockIndustry_Search\n",
        "    StockIndustry_Search = getStockIndustry(getChoice)\n",
        "  else:\n",
        "    chooseStockIndustry()\n",
        "\n",
        "#To return stock company name from selected choice\n",
        "\n",
        "def getStockIndustry(choiceIndex):\n",
        "  stock_ex = {1:'NYSE', 2:'TSX', 3:'NASDAQ'}\n",
        "  selectedIndustry = stock_ex[int(choiceIndex)]\n",
        "  print('Selected industry is:',selectedIndustry)\n",
        "  return selectedIndustry"
      ],
      "execution_count": 6,
      "outputs": []
    },
    {
      "cell_type": "markdown",
      "source": [
        "**Get User choice for Stock industry**\n"
      ],
      "metadata": {
        "id": "Mcs5cGXrjkZU"
      }
    },
    {
      "cell_type": "code",
      "metadata": {
        "id": "K2h3XKOdXAtQ",
        "colab": {
          "base_uri": "https://localhost:8080/"
        },
        "outputId": "724a3e53-164f-470b-d966-2bcb3c1ee8f2"
      },
      "source": [
        "#chooseStockIndustry function called to display list and ask form input\n",
        "chooseStockIndustry()"
      ],
      "execution_count": 7,
      "outputs": [
        {
          "output_type": "stream",
          "name": "stdout",
          "text": [
            "SELECT INDUSTRY TO GET STOCK SYMBOLS:\n",
            "\n",
            " 1.NYSE (New York Stock Exchange) \n",
            " 2.TSX (Toronto Stock Exchange) \n",
            " 3.NASDAQ (National Association of Securities Dealers Automated Quotation)\n",
            "\n",
            "Enter numerical choice: 1\n",
            "Selected industry is: NYSE\n"
          ]
        }
      ]
    },
    {
      "cell_type": "markdown",
      "source": [
        "#Get and Search Stock Symbols for selected Stock Industry"
      ],
      "metadata": {
        "id": "TdHaLGQ5xtLd"
      }
    },
    {
      "cell_type": "code",
      "source": [
        "#regex : to fetch the stock list from selected industry.\n",
        "#for e.g: regex -> (NSE:AALP)\n",
        "# it will parse the list after  'company name:'\n",
        "#duplicate and null values are removed from the list obtained\n",
        "\n",
        "regex = StockIndustry_Search + ': ([a-zA-Z]+)'\n",
        "df_stockSymbols = df['Content'].str.extract(regex, expand=False)\n",
        "# Dropping the duplicates \n",
        "df_stockSymbols = df_stockSymbols.drop_duplicates()\n",
        "# Dropping the missing values.\n",
        "df_stockSymbols = df_stockSymbols.dropna()"
      ],
      "metadata": {
        "id": "BLdYbDr8fyEn"
      },
      "execution_count": 8,
      "outputs": []
    },
    {
      "cell_type": "markdown",
      "source": [
        "**Get User choice for Stock Symbols**"
      ],
      "metadata": {
        "id": "_onlF8yqfFxi"
      }
    },
    {
      "cell_type": "code",
      "source": [
        "#From the list retrieved above is filtered and top 5 item is shown\n",
        "# index value is set from 1 to 5 for the given list\n",
        "\n",
        "print('SELECT TWO STOCKS:\\n')\n",
        "stocks = df_stockSymbols.head(5).tolist()\n",
        "for i, item in enumerate(stocks, start=1):\n",
        "    print(i,item)\n",
        "#*********************************************************************************\n",
        "#function name : getSelectedStock\n",
        "#function Task : To validate from the stock index selected \n",
        "#function input : 'Choice' is passed range from 1 to 5\n",
        "#return Value : returns bool value if entered value is with in the range of 1 to 5\n",
        "#returns true else returns false\n",
        "#*********************************************************************************\n",
        "\n",
        "def getSelectedStock(choice):\n",
        "  if isValidInput(choice) == True:\n",
        "    return int(choice)\n",
        "  else:\n",
        "    return 0\n",
        "\n",
        "#To provide input from 1 to 5 shown stock list\n",
        "def chooseStock(idx):\n",
        "  print('\\nFor Stock', idx)\n",
        "  choice = getSelectedStock(input(\"\\nEnter numerical choice: \"))\n",
        "  if choice > 0 and choice < 6:\n",
        "    print(choice)\n",
        "    if len(selected_stock) < 2:\n",
        "      selected_stock.append(stocks[choice-1])\n",
        "  else:\n",
        "    chooseStock(idx)\n",
        "\n",
        "#Fuction call to choose two Stock Symbols\n",
        "count = 1\n",
        "while count <= 2:\n",
        "  chooseStock(count)\n",
        "  count = count + 1\n",
        "print('\\nSelected Stocks are:',selected_stock)"
      ],
      "metadata": {
        "colab": {
          "base_uri": "https://localhost:8080/"
        },
        "id": "VBFUi5YBxk53",
        "outputId": "c79ee982-eb1e-4c51-c4c8-324fc1ecf807"
      },
      "execution_count": 9,
      "outputs": [
        {
          "output_type": "stream",
          "name": "stdout",
          "text": [
            "SELECT TWO STOCKS:\n",
            "\n",
            "1 ROG\n",
            "2 ZEV\n",
            "3 DNA\n",
            "4 CEI\n",
            "5 LSPD\n",
            "\n",
            "For Stock 1\n",
            "\n",
            "Enter numerical choice: 1\n",
            "1\n",
            "\n",
            "For Stock 2\n",
            "\n",
            "Enter numerical choice: 2\n",
            "2\n",
            "\n",
            "Selected Stocks are: ['ROG', 'ZEV']\n"
          ]
        }
      ]
    },
    {
      "cell_type": "markdown",
      "metadata": {
        "id": "fAjI7G8_p8OV"
      },
      "source": [
        "#Yahoo Finance API\n"
      ]
    },
    {
      "cell_type": "code",
      "metadata": {
        "id": "_hdVd4LIr1bn",
        "colab": {
          "base_uri": "https://localhost:8080/"
        },
        "outputId": "594bb5f2-0913-458b-925b-a09d6192944b"
      },
      "source": [
        "pip install yahoofinancials"
      ],
      "execution_count": 10,
      "outputs": [
        {
          "output_type": "stream",
          "name": "stdout",
          "text": [
            "Collecting yahoofinancials\n",
            "  Downloading yahoofinancials-1.6.tar.gz (27 kB)\n",
            "Requirement already satisfied: beautifulsoup4 in /usr/local/lib/python3.7/dist-packages (from yahoofinancials) (4.6.3)\n",
            "Requirement already satisfied: pytz in /usr/local/lib/python3.7/dist-packages (from yahoofinancials) (2018.9)\n",
            "Building wheels for collected packages: yahoofinancials\n",
            "  Building wheel for yahoofinancials (setup.py) ... \u001b[?25l\u001b[?25hdone\n",
            "  Created wheel for yahoofinancials: filename=yahoofinancials-1.6-py3-none-any.whl size=15190 sha256=0779b5a1356bb806c3701aed3db438e2e399d55bc59b677e53ff9e48022804c5\n",
            "  Stored in directory: /root/.cache/pip/wheels/4b/63/46/e7110bfee88685fe69e338d1b14d1748921862aa57b6705b60\n",
            "Successfully built yahoofinancials\n",
            "Installing collected packages: yahoofinancials\n",
            "Successfully installed yahoofinancials-1.6\n"
          ]
        }
      ]
    },
    {
      "cell_type": "code",
      "metadata": {
        "id": "9N9WHKdsrtXy",
        "colab": {
          "base_uri": "https://localhost:8080/",
          "height": 505
        },
        "outputId": "cebbca2c-e1d6-417e-8586-a78de861813f"
      },
      "source": [
        "pip install yfinance"
      ],
      "execution_count": 11,
      "outputs": [
        {
          "output_type": "stream",
          "name": "stdout",
          "text": [
            "Collecting yfinance\n",
            "  Downloading yfinance-0.1.67-py2.py3-none-any.whl (25 kB)\n",
            "Requirement already satisfied: numpy>=1.15 in /usr/local/lib/python3.7/dist-packages (from yfinance) (1.19.5)\n",
            "Collecting lxml>=4.5.1\n",
            "  Downloading lxml-4.7.1-cp37-cp37m-manylinux_2_17_x86_64.manylinux2014_x86_64.manylinux_2_24_x86_64.whl (6.4 MB)\n",
            "\u001b[K     |████████████████████████████████| 6.4 MB 25.0 MB/s \n",
            "\u001b[?25hRequirement already satisfied: multitasking>=0.0.7 in /usr/local/lib/python3.7/dist-packages (from yfinance) (0.0.10)\n",
            "Requirement already satisfied: pandas>=0.24 in /usr/local/lib/python3.7/dist-packages (from yfinance) (1.1.5)\n",
            "Requirement already satisfied: requests>=2.20 in /usr/local/lib/python3.7/dist-packages (from yfinance) (2.23.0)\n",
            "Requirement already satisfied: python-dateutil>=2.7.3 in /usr/local/lib/python3.7/dist-packages (from pandas>=0.24->yfinance) (2.8.2)\n",
            "Requirement already satisfied: pytz>=2017.2 in /usr/local/lib/python3.7/dist-packages (from pandas>=0.24->yfinance) (2018.9)\n",
            "Requirement already satisfied: six>=1.5 in /usr/local/lib/python3.7/dist-packages (from python-dateutil>=2.7.3->pandas>=0.24->yfinance) (1.15.0)\n",
            "Requirement already satisfied: urllib3!=1.25.0,!=1.25.1,<1.26,>=1.21.1 in /usr/local/lib/python3.7/dist-packages (from requests>=2.20->yfinance) (1.24.3)\n",
            "Requirement already satisfied: certifi>=2017.4.17 in /usr/local/lib/python3.7/dist-packages (from requests>=2.20->yfinance) (2021.10.8)\n",
            "Requirement already satisfied: chardet<4,>=3.0.2 in /usr/local/lib/python3.7/dist-packages (from requests>=2.20->yfinance) (3.0.4)\n",
            "Requirement already satisfied: idna<3,>=2.5 in /usr/local/lib/python3.7/dist-packages (from requests>=2.20->yfinance) (2.10)\n",
            "Installing collected packages: lxml, yfinance\n",
            "  Attempting uninstall: lxml\n",
            "    Found existing installation: lxml 4.2.6\n",
            "    Uninstalling lxml-4.2.6:\n",
            "      Successfully uninstalled lxml-4.2.6\n",
            "Successfully installed lxml-4.7.1 yfinance-0.1.67\n"
          ]
        },
        {
          "output_type": "display_data",
          "data": {
            "application/vnd.colab-display-data+json": {
              "pip_warning": {
                "packages": [
                  "lxml"
                ]
              }
            }
          },
          "metadata": {}
        }
      ]
    },
    {
      "cell_type": "code",
      "metadata": {
        "id": "qflTI4gFqDmy"
      },
      "source": [
        "import pandas as pd\n",
        "import yfinance as yf\n",
        "from yahoofinancials import YahooFinancials"
      ],
      "execution_count": 12,
      "outputs": []
    },
    {
      "cell_type": "code",
      "metadata": {
        "id": "CG_jLwHqrqcJ",
        "colab": {
          "base_uri": "https://localhost:8080/",
          "height": 286
        },
        "outputId": "bcf0dc4f-6896-4334-9bff-2bd92cab739c"
      },
      "source": [
        "#Get stock details for the 2 Stocks for 60 days\n",
        "stock_df = yf.download(selected_stock, \n",
        "                      start=strStartDate, \n",
        "                      end=strEndDate, \n",
        "                      progress=True,\n",
        ")\n",
        "stock_df.head()"
      ],
      "execution_count": 13,
      "outputs": [
        {
          "output_type": "stream",
          "name": "stdout",
          "text": [
            "[*********************100%***********************]  2 of 2 completed\n"
          ]
        },
        {
          "output_type": "execute_result",
          "data": {
            "text/html": [
              "<div>\n",
              "<style scoped>\n",
              "    .dataframe tbody tr th:only-of-type {\n",
              "        vertical-align: middle;\n",
              "    }\n",
              "\n",
              "    .dataframe tbody tr th {\n",
              "        vertical-align: top;\n",
              "    }\n",
              "\n",
              "    .dataframe thead tr th {\n",
              "        text-align: left;\n",
              "    }\n",
              "\n",
              "    .dataframe thead tr:last-of-type th {\n",
              "        text-align: right;\n",
              "    }\n",
              "</style>\n",
              "<table border=\"1\" class=\"dataframe\">\n",
              "  <thead>\n",
              "    <tr>\n",
              "      <th></th>\n",
              "      <th colspan=\"2\" halign=\"left\">Adj Close</th>\n",
              "      <th colspan=\"2\" halign=\"left\">Close</th>\n",
              "      <th colspan=\"2\" halign=\"left\">High</th>\n",
              "      <th colspan=\"2\" halign=\"left\">Low</th>\n",
              "      <th colspan=\"2\" halign=\"left\">Open</th>\n",
              "      <th colspan=\"2\" halign=\"left\">Volume</th>\n",
              "    </tr>\n",
              "    <tr>\n",
              "      <th></th>\n",
              "      <th>ROG</th>\n",
              "      <th>ZEV</th>\n",
              "      <th>ROG</th>\n",
              "      <th>ZEV</th>\n",
              "      <th>ROG</th>\n",
              "      <th>ZEV</th>\n",
              "      <th>ROG</th>\n",
              "      <th>ZEV</th>\n",
              "      <th>ROG</th>\n",
              "      <th>ZEV</th>\n",
              "      <th>ROG</th>\n",
              "      <th>ZEV</th>\n",
              "    </tr>\n",
              "    <tr>\n",
              "      <th>Date</th>\n",
              "      <th></th>\n",
              "      <th></th>\n",
              "      <th></th>\n",
              "      <th></th>\n",
              "      <th></th>\n",
              "      <th></th>\n",
              "      <th></th>\n",
              "      <th></th>\n",
              "      <th></th>\n",
              "      <th></th>\n",
              "      <th></th>\n",
              "      <th></th>\n",
              "    </tr>\n",
              "  </thead>\n",
              "  <tbody>\n",
              "    <tr>\n",
              "      <th>2021-10-15</th>\n",
              "      <td>187.509995</td>\n",
              "      <td>7.88</td>\n",
              "      <td>187.509995</td>\n",
              "      <td>7.88</td>\n",
              "      <td>191.449997</td>\n",
              "      <td>8.19</td>\n",
              "      <td>186.779999</td>\n",
              "      <td>7.771</td>\n",
              "      <td>191.449997</td>\n",
              "      <td>8.12</td>\n",
              "      <td>47000</td>\n",
              "      <td>425700</td>\n",
              "    </tr>\n",
              "    <tr>\n",
              "      <th>2021-10-18</th>\n",
              "      <td>187.850006</td>\n",
              "      <td>7.89</td>\n",
              "      <td>187.850006</td>\n",
              "      <td>7.89</td>\n",
              "      <td>188.960007</td>\n",
              "      <td>7.95</td>\n",
              "      <td>184.839996</td>\n",
              "      <td>7.700</td>\n",
              "      <td>186.320007</td>\n",
              "      <td>7.83</td>\n",
              "      <td>32900</td>\n",
              "      <td>250300</td>\n",
              "    </tr>\n",
              "    <tr>\n",
              "      <th>2021-10-19</th>\n",
              "      <td>190.000000</td>\n",
              "      <td>8.02</td>\n",
              "      <td>190.000000</td>\n",
              "      <td>8.02</td>\n",
              "      <td>190.520004</td>\n",
              "      <td>8.09</td>\n",
              "      <td>187.330002</td>\n",
              "      <td>7.800</td>\n",
              "      <td>188.399994</td>\n",
              "      <td>8.08</td>\n",
              "      <td>24400</td>\n",
              "      <td>388000</td>\n",
              "    </tr>\n",
              "    <tr>\n",
              "      <th>2021-10-20</th>\n",
              "      <td>191.250000</td>\n",
              "      <td>7.84</td>\n",
              "      <td>191.250000</td>\n",
              "      <td>7.84</td>\n",
              "      <td>192.100006</td>\n",
              "      <td>8.02</td>\n",
              "      <td>187.309998</td>\n",
              "      <td>7.620</td>\n",
              "      <td>189.550003</td>\n",
              "      <td>8.02</td>\n",
              "      <td>24500</td>\n",
              "      <td>578700</td>\n",
              "    </tr>\n",
              "    <tr>\n",
              "      <th>2021-10-21</th>\n",
              "      <td>193.210007</td>\n",
              "      <td>7.96</td>\n",
              "      <td>193.210007</td>\n",
              "      <td>7.96</td>\n",
              "      <td>193.559998</td>\n",
              "      <td>7.99</td>\n",
              "      <td>189.449997</td>\n",
              "      <td>7.730</td>\n",
              "      <td>191.309998</td>\n",
              "      <td>7.77</td>\n",
              "      <td>42500</td>\n",
              "      <td>390200</td>\n",
              "    </tr>\n",
              "  </tbody>\n",
              "</table>\n",
              "</div>"
            ],
            "text/plain": [
              "             Adj Close             Close        ...        Open       Volume        \n",
              "                   ROG   ZEV         ROG   ZEV  ...         ROG   ZEV    ROG     ZEV\n",
              "Date                                            ...                                 \n",
              "2021-10-15  187.509995  7.88  187.509995  7.88  ...  191.449997  8.12  47000  425700\n",
              "2021-10-18  187.850006  7.89  187.850006  7.89  ...  186.320007  7.83  32900  250300\n",
              "2021-10-19  190.000000  8.02  190.000000  8.02  ...  188.399994  8.08  24400  388000\n",
              "2021-10-20  191.250000  7.84  191.250000  7.84  ...  189.550003  8.02  24500  578700\n",
              "2021-10-21  193.210007  7.96  193.210007  7.96  ...  191.309998  7.77  42500  390200\n",
              "\n",
              "[5 rows x 12 columns]"
            ]
          },
          "metadata": {},
          "execution_count": 13
        }
      ]
    },
    {
      "cell_type": "markdown",
      "metadata": {
        "id": "JcMwgErJfzxV"
      },
      "source": [
        "**Stock price comparison**"
      ]
    },
    {
      "cell_type": "code",
      "metadata": {
        "id": "53mOLbxxsG-S",
        "colab": {
          "base_uri": "https://localhost:8080/",
          "height": 502
        },
        "outputId": "4dd6f1f7-e3ef-4d7a-e038-658df7d1dbd7"
      },
      "source": [
        "df = stock_df['Close']\n",
        "ax = df.plot(title='Stock Price', fontsize=12, figsize=(20, 10))\n",
        "ax.set_xlabel(\"Date\")\n",
        "ax.set_ylabel(\"Closing Price\")\n",
        "\n",
        "plt.legend(loc='upper left', fontsize=12)\n",
        "plt.grid(True)\n",
        "plt.show()"
      ],
      "execution_count": 14,
      "outputs": [
        {
          "output_type": "display_data",
          "data": {
            "image/png": "[encoded data removed]",
            "text/plain": [
              "<Figure size 1440x720 with 1 Axes>"
            ]
          },
          "metadata": {
            "needs_background": "light"
          }
        }
      ]
    },
    {
      "cell_type": "markdown",
      "metadata": {
        "id": "QiDWWsJ9xDHw"
      },
      "source": [
        "**Stock Volume Comparison**"
      ]
    },
    {
      "cell_type": "code",
      "metadata": {
        "id": "t8K8ZSdCsMA2",
        "colab": {
          "base_uri": "https://localhost:8080/",
          "height": 490
        },
        "outputId": "d2331d63-b7b0-4bff-fb39-c65b6e120453"
      },
      "source": [
        "df = stock_df['Volume']\n",
        "axis = df.plot(title='Stock Volume', fontsize=12, figsize=(20, 10))\n",
        "axis.set_xlabel(\"Date\")\n",
        "axis.set_ylabel(\"Volume\")\n",
        "\n",
        "# to remove scientific notation from matplotlib\n",
        "plt.gcf().axes[0].yaxis.get_major_formatter().set_scientific(False)\n",
        "\n",
        "plt.legend(loc='upper left', fontsize=12)\n",
        "plt.grid(True)\n",
        "plt.show()"
      ],
      "execution_count": 15,
      "outputs": [
        {
          "output_type": "display_data",
          "data": {
            "image/png": "[encoded data removed]",
            "text/plain": [
              "<Figure size 1440x720 with 1 Axes>"
            ]
          },
          "metadata": {
            "needs_background": "light"
          }
        }
      ]
    },
    {
      "cell_type": "markdown",
      "source": [
        "#Stock Prediction"
      ],
      "metadata": {
        "id": "nfTOKZV0j09j"
      }
    },
    {
      "cell_type": "code",
      "metadata": {
        "id": "3dLAcP-sWI8q"
      },
      "source": [
        "import numpy as np\n",
        "from keras.models import Sequential\n",
        "from keras.layers import Dense, LSTM\n",
        "import math\n",
        "from sklearn.preprocessing import MinMaxScaler\n",
        "from sklearn.model_selection import train_test_split"
      ],
      "execution_count": 16,
      "outputs": []
    },
    {
      "cell_type": "markdown",
      "source": [
        "**Compare Stocks for Closing value**"
      ],
      "metadata": {
        "id": "n3IcLmzqrJUN"
      }
    },
    {
      "cell_type": "code",
      "source": [
        "def findValuableStock():\n",
        "  mean1 = stock_df['Close'][selected_stock[0]].mean()\n",
        "  mean2 = stock_df['Close'][selected_stock[1]].mean()\n",
        "  if mean1 > mean2:\n",
        "    return selected_stock[0]\n",
        "  else:\n",
        "    return selected_stock[1]\n",
        "\n",
        "predictForStock = findValuableStock()\n",
        "print('Out of the two stocks', predictForStock, 'is more valuable')\n",
        "print('::::::Prediction for', predictForStock, '::::::')"
      ],
      "metadata": {
        "colab": {
          "base_uri": "https://localhost:8080/"
        },
        "id": "GHJcnJrOkRKs",
        "outputId": "69e92b9c-bb88-4e0d-eb18-70a26e1cf2c6"
      },
      "execution_count": 17,
      "outputs": [
        {
          "output_type": "stream",
          "name": "stdout",
          "text": [
            "Out of the two stocks ROG is more valuable\n",
            "::::::Prediction for ROG ::::::\n"
          ]
        }
      ]
    },
    {
      "cell_type": "markdown",
      "source": [
        "**Get Stock data for 5-year period**"
      ],
      "metadata": {
        "id": "1fcbbZs3rVWe"
      }
    },
    {
      "cell_type": "code",
      "metadata": {
        "id": "Ilq-1X1ZbgSF"
      },
      "source": [
        "yahoo_financials = YahooFinancials(predictForStock)\n",
        "data = yahoo_financials.get_historical_price_data(start_date=strFiveYearDate, \n",
        "                                                  end_date=strEndDate, \n",
        "                                                  time_interval='daily')\n",
        "stockPredict_df = pd.DataFrame(data[predictForStock]['prices'])\n",
        "stockPredict_df = stockPredict_df.drop('date', axis=1).set_index('formatted_date')"
      ],
      "execution_count": 18,
      "outputs": []
    },
    {
      "cell_type": "markdown",
      "metadata": {
        "id": "2fi7BYc94rtY"
      },
      "source": [
        "**Creating a new Dataframe and Training data**"
      ]
    },
    {
      "cell_type": "code",
      "metadata": {
        "id": "-XzfnQU5WdOb"
      },
      "source": [
        "# 1. Filter out the closing market price data\n",
        "close_data = stockPredict_df.filter(['close'])\n",
        "\n",
        "# 2. Convert the data into array for easy evaluation\n",
        "dataset = close_data.values\n",
        " \n",
        "# 3. Scale/Normalize the data to make all values between 0 and 1\n",
        "scaler = MinMaxScaler(feature_range=(0, 1))\n",
        "scaled_data = scaler.fit_transform(dataset)\n",
        " \n",
        "# 4. Creating training data size : 70% of the data\n",
        "training_data_len = math.ceil(len(dataset) *.7)\n",
        "train_data = scaled_data[0:training_data_len  , : ]\n",
        "\n",
        "# 5. Separating the data into x and y data\n",
        "x_train_data=[]\n",
        "y_train_data =[]\n",
        "for i in range(60,len(train_data)):\n",
        "    x_train_data=list(x_train_data)\n",
        "    y_train_data=list(y_train_data)\n",
        "    x_train_data.append(train_data[i-60:i,0])\n",
        "    y_train_data.append(train_data[i,0])\n",
        " \n",
        "    # 6. Converting the training x and y values to numpy arrays\n",
        "    x_train_data1, y_train_data1 = np.array(x_train_data), np.array(y_train_data)\n",
        " \n",
        "    # 7. Reshaping training x and y data to make the calculations easier\n",
        "    x_train_data2 = np.reshape(x_train_data1, (x_train_data1.shape[0],x_train_data1.shape[1],1))"
      ],
      "execution_count": 19,
      "outputs": []
    },
    {
      "cell_type": "markdown",
      "metadata": {
        "id": "3c3LbbG36S8X"
      },
      "source": [
        "**Building LSTM Mode**"
      ]
    },
    {
      "cell_type": "code",
      "metadata": {
        "id": "hSnNdZ8TZTbo"
      },
      "source": [
        "model = Sequential()\n",
        "model.add(LSTM(units=50, return_sequences=True,input_shape=(x_train_data2.shape[1],1)))\n",
        "model.add(LSTM(units=50, return_sequences=False))\n",
        "model.add(Dense(units=25))\n",
        "model.add(Dense(units=1))"
      ],
      "execution_count": 20,
      "outputs": []
    },
    {
      "cell_type": "markdown",
      "metadata": {
        "id": "5MVU9gya6V1Z"
      },
      "source": [
        "**Compiling the Model**"
      ]
    },
    {
      "cell_type": "code",
      "metadata": {
        "id": "2pe6gvoc6P8Q",
        "colab": {
          "base_uri": "https://localhost:8080/"
        },
        "outputId": "ec35967b-1062-4013-8597-789a4d43f214"
      },
      "source": [
        "model.compile(optimizer='adam', loss='mean_squared_error')\n",
        "model.fit(x_train_data2, y_train_data1, batch_size=1, epochs=1)"
      ],
      "execution_count": 21,
      "outputs": [
        {
          "output_type": "stream",
          "name": "stdout",
          "text": [
            "821/821 [==============================] - 27s 29ms/step - loss: 0.0024\n"
          ]
        },
        {
          "output_type": "execute_result",
          "data": {
            "text/plain": [
              "<keras.callbacks.History at 0x7fd1047a8fd0>"
            ]
          },
          "metadata": {},
          "execution_count": 21
        }
      ]
    },
    {
      "cell_type": "markdown",
      "metadata": {
        "id": "XE6uGAH46jBm"
      },
      "source": [
        "**Testing the model on testing data**"
      ]
    },
    {
      "cell_type": "code",
      "metadata": {
        "id": "YnxwTNol6jp0"
      },
      "source": [
        "# Creating a dataset for testing\n",
        "test_data = scaled_data[training_data_len - 60: , : ]\n",
        "x_test = []\n",
        "y_test = dataset[training_data_len : , : ]\n",
        "for i in range(60,len(test_data)):\n",
        "    x_test.append(test_data[i-60:i,0])\n",
        " \n",
        "# 2.  Convert the values into arrays for easier computation\n",
        "x_test = np.array(x_test)\n",
        "x_test = np.reshape(x_test, (x_test.shape[0],x_test.shape[1],1))\n",
        " \n",
        "# 3. Making predictions on the testing data\n",
        "predictions = model.predict(x_test)\n",
        "#predictions = scaler.inverse_transform(predictions)\n"
      ],
      "execution_count": 22,
      "outputs": []
    },
    {
      "cell_type": "markdown",
      "metadata": {
        "id": "R67TYPz860Pr"
      },
      "source": [
        "**Error Calculation**"
      ]
    },
    {
      "cell_type": "code",
      "metadata": {
        "id": "pefqFDMA6zxa",
        "colab": {
          "base_uri": "https://localhost:8080/"
        },
        "outputId": "ea07f004-18a9-4de0-8e08-5d2c0d7cc3bd"
      },
      "source": [
        "rmse=np.sqrt(np.mean(((predictions- y_test)**2)))\n",
        "print(rmse)"
      ],
      "execution_count": 23,
      "outputs": [
        {
          "output_type": "stream",
          "name": "stdout",
          "text": [
            "176.6920867389119\n"
          ]
        }
      ]
    },
    {
      "cell_type": "markdown",
      "metadata": {
        "id": "tnvv8ebN6-68"
      },
      "source": [
        "**Make Predictions**"
      ]
    },
    {
      "cell_type": "code",
      "metadata": {
        "id": "Gvz8HcTu7D3V",
        "colab": {
          "base_uri": "https://localhost:8080/",
          "height": 295
        },
        "outputId": "655d770c-1983-48f7-c261-b5abb39f9146"
      },
      "source": [
        "valid = scaled_data[training_data_len:]\n",
        "\n",
        "predictDF = pd.DataFrame(valid, columns=['close'])\n",
        "predictDF['Predictions'] = predictions\n",
        "\n",
        "title = 'Stock Predictions for ' + predictForStock\n",
        "plt.title(title)\n",
        "plt.xlabel('Date')\n",
        "plt.ylabel('Close')\n",
        " \n",
        "plt.plot(predictDF['close'])\n",
        "plt.plot(predictDF[['Predictions']])\n",
        " \n",
        "plt.legend(['Actual', 'Predictions'], loc='lower right')\n",
        " \n",
        "plt.show()"
      ],
      "execution_count": 24,
      "outputs": [
        {
          "output_type": "display_data",
          "data": {
            "image/png": "[encoded data removed]",
            "text/plain": [
              "<Figure size 432x288 with 1 Axes>"
            ]
          },
          "metadata": {
            "needs_background": "light"
          }
        }
      ]
    }
  ]
}