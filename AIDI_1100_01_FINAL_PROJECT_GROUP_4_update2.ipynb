{
  "nbformat": 4,
  "nbformat_minor": 0,
  "metadata": {
    "colab": {
      "name": "AIDI_1100_01_FINAL_PROJECT_GROUP_4_update2.ipynb",
      "provenance": [],
      "collapsed_sections": []
    },
    "kernelspec": {
      "display_name": "Python 3",
      "language": "python",
      "name": "python3"
    }
  },
  "cells": [
    {
      "cell_type": "code",
      "metadata": {
        "id": "NhsP2fCmErLx"
      },
      "source": [
        "import requests\n",
        "from bs4 import BeautifulSoup\n",
        "import datetime\n",
        "import csv\n",
        "import pandas as pd\n",
        "import re"
      ],
      "execution_count": null,
      "outputs": []
    },
    {
      "cell_type": "code",
      "metadata": {
        "id": "X94SpdEOEg95"
      },
      "source": [
        "# Constants\n",
        "News_URL = \"https://www.prnewswire.com/news-releases/news-releases-list/?\"\n",
        "#News_URL = \"https://www.prnewswire.com/news-releases/news-releases-list/?month=11&day=24&year=2021&hour=00&page=1&pagesize=100\"\n",
        "\n",
        "Total_Days = 7 #Number of days to fetch\n",
        "StockIndustry_Search = 'NYSE'\n",
        "StockSymbol_Required = 2"
      ],
      "execution_count": null,
      "outputs": []
    },
    {
      "cell_type": "code",
      "metadata": {
        "id": "SoIkEyt4ExMJ"
      },
      "source": [
        "# Global Variables\n",
        "arr_Date = []\n",
        "arr_newsTitle = []\n",
        "arr_newsPara = []"
      ],
      "execution_count": null,
      "outputs": []
    },
    {
      "cell_type": "code",
      "metadata": {
        "id": "xYFhYfCbE6Qg"
      },
      "source": [
        "# Date for extracting webpage\n",
        "currentDate = datetime.datetime.now()\n",
        "tempDate = currentDate"
      ],
      "execution_count": null,
      "outputs": []
    },
    {
      "cell_type": "code",
      "metadata": {
        "id": "yPaKom5Ou9M6"
      },
      "source": [
        "def prepare_URL(dayToFetch) -> str:\n",
        "   urlByDay = News_URL + 'month=' + str(currentDate.month) + '&day=' + str(dayToFetch) + '&year=' + str(currentDate.year) + '&hour=00&page=1&pagesize=100'\n",
        "   return urlByDay"
      ],
      "execution_count": null,
      "outputs": []
    },
    {
      "cell_type": "code",
      "metadata": {
        "id": "tzMGO92NIakg"
      },
      "source": [
        "def parse_News(forDay):\n",
        "  url = prepare_URL(forDay)\n",
        "  page = requests.get(url)\n",
        "  soup = BeautifulSoup(page.content, \"html.parser\")\n",
        "\n",
        "  # to extract main layout content\n",
        "  main = soup.find_all('main',class_='headline-listing')\n",
        "\n",
        "  for elements in main:\n",
        "    lstContainer = elements.find_all('section',class_='container')\n",
        "    for mainHead in lstContainer:\n",
        "      row = mainHead.find_all('div',class_='row')\n",
        "      for mainCol in row:\n",
        "        rowList = mainCol.find_all('div',class_='col-md-8 col-sm-8 card-list card-list-hr')\n",
        "        for newsCard in rowList:\n",
        "          newsLst = newsCard.find_all('a',class_='newsreleaseconsolidatelink')\n",
        "          for content in newsLst:\n",
        "            small = content.h3.small.text\n",
        "            content.h3.small.decompose()\n",
        "            h3 = content.h3.text.replace(\"\\n\", \"\")\n",
        "            p =  content.p.text\n",
        "            arr_Date.append(small)\n",
        "            arr_newsTitle.append(h3)\n",
        "            arr_newsPara.append(p)"
      ],
      "execution_count": null,
      "outputs": []
    },
    {
      "cell_type": "code",
      "metadata": {
        "id": "P65CV6KnOCIe"
      },
      "source": [
        "#Fetch & Parse data of last week\n",
        "i = 0\n",
        "while i < Total_Days:\n",
        "  parse_News(currentDate.day - i)\n",
        "  i = i + 1"
      ],
      "execution_count": null,
      "outputs": []
    },
    {
      "cell_type": "code",
      "metadata": {
        "id": "5pURL0S_bEMe",
        "colab": {
          "base_uri": "https://localhost:8080/",
          "height": 206
        },
        "outputId": "f6e8b4da-c356-4544-cb3e-fa1354570747"
      },
      "source": [
        "# Write data to csv\n",
        "dictNews = {'Date': arr_Date, 'Title': arr_newsTitle, 'Content': arr_newsPara}\n",
        "df = pd.DataFrame(dictNews)\n",
        "df.to_csv('newsData.csv')\n",
        "\n",
        "df.head()"
      ],
      "execution_count": null,
      "outputs": [
        {
          "output_type": "execute_result",
          "data": {
            "text/html": [
              "<div>\n",
              "<style scoped>\n",
              "    .dataframe tbody tr th:only-of-type {\n",
              "        vertical-align: middle;\n",
              "    }\n",
              "\n",
              "    .dataframe tbody tr th {\n",
              "        vertical-align: top;\n",
              "    }\n",
              "\n",
              "    .dataframe thead th {\n",
              "        text-align: right;\n",
              "    }\n",
              "</style>\n",
              "<table border=\"1\" class=\"dataframe\">\n",
              "  <thead>\n",
              "    <tr style=\"text-align: right;\">\n",
              "      <th></th>\n",
              "      <th>Date</th>\n",
              "      <th>Title</th>\n",
              "      <th>Content</th>\n",
              "    </tr>\n",
              "  </thead>\n",
              "  <tbody>\n",
              "    <tr>\n",
              "      <th>0</th>\n",
              "      <td>18:06 ET</td>\n",
              "      <td>DEADLINE: Playtika Holding Corp. Investors wit...</td>\n",
              "      <td>Robbins Geller Rudman &amp; Dowd LLP announces tha...</td>\n",
              "    </tr>\n",
              "    <tr>\n",
              "      <th>1</th>\n",
              "      <td>17:00 ET</td>\n",
              "      <td>ROSEN, TRUSTED AND TOP RANKED INVESTOR COUNSEL...</td>\n",
              "      <td>WHY: Rosen Law Firm, a global investor rights ...</td>\n",
              "    </tr>\n",
              "    <tr>\n",
              "      <th>2</th>\n",
              "      <td>16:00 ET</td>\n",
              "      <td>ROSEN, TRUSTED INVESTOR COUNSEL, Encourages Zh...</td>\n",
              "      <td>WHY: Rosen Law Firm, a global investor rights ...</td>\n",
              "    </tr>\n",
              "    <tr>\n",
              "      <th>3</th>\n",
              "      <td>13:13 ET</td>\n",
              "      <td>Best Cyber Monday Deals 2021 - Continue Discou...</td>\n",
              "      <td>The first Cyber Monday deals of 2021 will be h...</td>\n",
              "    </tr>\n",
              "    <tr>\n",
              "      <th>4</th>\n",
              "      <td>12:14 ET</td>\n",
              "      <td>Tendances crypto dans l'iGaming : aperçus de S...</td>\n",
              "      <td>SOFTSWISS offre des statistiques et des inform...</td>\n",
              "    </tr>\n",
              "  </tbody>\n",
              "</table>\n",
              "</div>"
            ],
            "text/plain": [
              "       Date  ...                                            Content\n",
              "0  18:06 ET  ...  Robbins Geller Rudman & Dowd LLP announces tha...\n",
              "1  17:00 ET  ...  WHY: Rosen Law Firm, a global investor rights ...\n",
              "2  16:00 ET  ...  WHY: Rosen Law Firm, a global investor rights ...\n",
              "3  13:13 ET  ...  The first Cyber Monday deals of 2021 will be h...\n",
              "4  12:14 ET  ...  SOFTSWISS offre des statistiques et des inform...\n",
              "\n",
              "[5 rows x 3 columns]"
            ]
          },
          "metadata": {},
          "execution_count": 8
        }
      ]
    },
    {
      "cell_type": "code",
      "metadata": {
        "id": "K2h3XKOdXAtQ",
        "colab": {
          "base_uri": "https://localhost:8080/"
        },
        "outputId": "7b581c42-38f8-4c8a-fb1d-d0ed73375dc9"
      },
      "source": [
        "#Search stock symbols of given industry\n",
        "\n",
        "searchString = StockIndustry_Search + ': ([a-zA-Z]+)'\n",
        "df_stockSymbols = df['Content'].str.extract(searchString, expand=False)\n",
        "print(StockIndustry_Search)\n",
        "# Dropping the duplicates \n",
        "df_stockSymbols = df_stockSymbols.drop_duplicates()\n",
        "\n",
        "# Dropping the missing values.\n",
        "df_stockSymbols = df_stockSymbols.dropna() "
      ],
      "execution_count": null,
      "outputs": [
        {
          "output_type": "stream",
          "name": "stdout",
          "text": [
            "NYSE\n"
          ]
        }
      ]
    },
    {
      "cell_type": "code",
      "metadata": {
        "colab": {
          "base_uri": "https://localhost:8080/"
        },
        "id": "6vnrDiQFXalR",
        "outputId": "78e37009-fa7d-4817-f048-c89482715cb1"
      },
      "source": [
        "df_stock_list = df_stockSymbols\n"
      ],
      "execution_count": null,
      "outputs": [
        {
          "output_type": "stream",
          "name": "stdout",
          "text": [
            " CPLG\n",
            "  ENB\n",
            "  BMO\n",
            "  CRM\n",
            " YEXT\n",
            "  AWF\n",
            "  AEM\n",
            " SNAP\n",
            " HRTG\n",
            " CHGG\n",
            " GOTU\n",
            " AMPY\n",
            "  SLI\n",
            " FICO\n",
            " ONTF\n",
            "  RDW\n",
            " OSCR\n",
            " FTCH\n",
            "  OSH\n",
            "   DM\n",
            " BKKT\n",
            "  ZME\n",
            " HMLP\n",
            "  DNA\n",
            "  GWH\n",
            " LSPD\n",
            "  BTG\n",
            "  BMA\n",
            "  KBR\n",
            "  LTH\n",
            " ZEPP\n",
            "   CO\n",
            "   SM\n",
            "   EC\n",
            "  ACN\n",
            "  ROK\n",
            " MATX\n",
            "   CP\n",
            "  WDH\n",
            "  ATH\n",
            "  GWB\n",
            "  ROG\n",
            "  EBS\n",
            "   FE\n",
            "  COR\n",
            " FTSI\n"
          ]
        }
      ]
    },
    {
      "cell_type": "code",
      "metadata": {
        "id": "84PSFnO8jd8r"
      },
      "source": [
        "from random import randint\n",
        "\n",
        "\n",
        "sample_pick = (df_stock_list.sample(2))"
      ],
      "execution_count": null,
      "outputs": []
    },
    {
      "cell_type": "code",
      "metadata": {
        "colab": {
          "base_uri": "https://localhost:8080/"
        },
        "id": "cWoRzgNvpodE",
        "outputId": "7ce3fa62-f2f3-4d22-b33e-5ea0cd4984a8"
      },
      "source": [
        "stock_list  = sample_pick.to_string(index=False)\n",
        "print(type(stock_list))\n",
        "\n",
        "random_pick = stock_list.split()\n",
        "print(random_pick)"
      ],
      "execution_count": null,
      "outputs": [
        {
          "output_type": "stream",
          "name": "stdout",
          "text": [
            "<class 'str'>\n",
            "['ROK', 'ACN']\n"
          ]
        }
      ]
    },
    {
      "cell_type": "markdown",
      "metadata": {
        "id": "fAjI7G8_p8OV"
      },
      "source": [
        "#Yahoo Finance API\n"
      ]
    },
    {
      "cell_type": "code",
      "metadata": {
        "colab": {
          "base_uri": "https://localhost:8080/"
        },
        "id": "_hdVd4LIr1bn",
        "outputId": "5f018e47-7c9c-4765-d2b7-00afafc5f0ca"
      },
      "source": [
        "pip install yahoofinancials"
      ],
      "execution_count": null,
      "outputs": [
        {
          "output_type": "stream",
          "name": "stdout",
          "text": [
            "Collecting yahoofinancials\n",
            "  Downloading yahoofinancials-1.6.tar.gz (27 kB)\n",
            "Requirement already satisfied: beautifulsoup4 in /usr/local/lib/python3.7/dist-packages (from yahoofinancials) (4.6.3)\n",
            "Requirement already satisfied: pytz in /usr/local/lib/python3.7/dist-packages (from yahoofinancials) (2018.9)\n",
            "Building wheels for collected packages: yahoofinancials\n",
            "  Building wheel for yahoofinancials (setup.py) ... \u001b[?25l\u001b[?25hdone\n",
            "  Created wheel for yahoofinancials: filename=yahoofinancials-1.6-py3-none-any.whl size=15190 sha256=b0bef1175cb3364ed5408b16850eb33b14945345262081353f037e1367416962\n",
            "  Stored in directory: /root/.cache/pip/wheels/4b/63/46/e7110bfee88685fe69e338d1b14d1748921862aa57b6705b60\n",
            "Successfully built yahoofinancials\n",
            "Installing collected packages: yahoofinancials\n",
            "Successfully installed yahoofinancials-1.6\n"
          ]
        }
      ]
    },
    {
      "cell_type": "code",
      "metadata": {
        "colab": {
          "base_uri": "https://localhost:8080/",
          "height": 505
        },
        "id": "9N9WHKdsrtXy",
        "outputId": "93812c9f-ca64-4a31-a9fb-ba53e0cfc847"
      },
      "source": [
        "pip install yfinance"
      ],
      "execution_count": null,
      "outputs": [
        {
          "output_type": "stream",
          "name": "stdout",
          "text": [
            "Collecting yfinance\n",
            "  Downloading yfinance-0.1.67-py2.py3-none-any.whl (25 kB)\n",
            "Requirement already satisfied: numpy>=1.15 in /usr/local/lib/python3.7/dist-packages (from yfinance) (1.19.5)\n",
            "Requirement already satisfied: pandas>=0.24 in /usr/local/lib/python3.7/dist-packages (from yfinance) (1.1.5)\n",
            "Collecting lxml>=4.5.1\n",
            "  Downloading lxml-4.6.4-cp37-cp37m-manylinux_2_17_x86_64.manylinux2014_x86_64.manylinux_2_24_x86_64.whl (6.3 MB)\n",
            "\u001b[K     |████████████████████████████████| 6.3 MB 7.5 MB/s \n",
            "\u001b[?25hRequirement already satisfied: requests>=2.20 in /usr/local/lib/python3.7/dist-packages (from yfinance) (2.23.0)\n",
            "Requirement already satisfied: multitasking>=0.0.7 in /usr/local/lib/python3.7/dist-packages (from yfinance) (0.0.10)\n",
            "Requirement already satisfied: pytz>=2017.2 in /usr/local/lib/python3.7/dist-packages (from pandas>=0.24->yfinance) (2018.9)\n",
            "Requirement already satisfied: python-dateutil>=2.7.3 in /usr/local/lib/python3.7/dist-packages (from pandas>=0.24->yfinance) (2.8.2)\n",
            "Requirement already satisfied: six>=1.5 in /usr/local/lib/python3.7/dist-packages (from python-dateutil>=2.7.3->pandas>=0.24->yfinance) (1.15.0)\n",
            "Requirement already satisfied: chardet<4,>=3.0.2 in /usr/local/lib/python3.7/dist-packages (from requests>=2.20->yfinance) (3.0.4)\n",
            "Requirement already satisfied: certifi>=2017.4.17 in /usr/local/lib/python3.7/dist-packages (from requests>=2.20->yfinance) (2021.10.8)\n",
            "Requirement already satisfied: idna<3,>=2.5 in /usr/local/lib/python3.7/dist-packages (from requests>=2.20->yfinance) (2.10)\n",
            "Requirement already satisfied: urllib3!=1.25.0,!=1.25.1,<1.26,>=1.21.1 in /usr/local/lib/python3.7/dist-packages (from requests>=2.20->yfinance) (1.24.3)\n",
            "Installing collected packages: lxml, yfinance\n",
            "  Attempting uninstall: lxml\n",
            "    Found existing installation: lxml 4.2.6\n",
            "    Uninstalling lxml-4.2.6:\n",
            "      Successfully uninstalled lxml-4.2.6\n",
            "Successfully installed lxml-4.6.4 yfinance-0.1.67\n"
          ]
        },
        {
          "output_type": "display_data",
          "data": {
            "application/vnd.colab-display-data+json": {
              "pip_warning": {
                "packages": [
                  "lxml"
                ]
              }
            }
          },
          "metadata": {}
        }
      ]
    },
    {
      "cell_type": "code",
      "metadata": {
        "id": "qflTI4gFqDmy"
      },
      "source": [
        "import pandas as pd\n",
        "import yfinance as yf\n",
        "from yahoofinancials import YahooFinancials"
      ],
      "execution_count": null,
      "outputs": []
    },
    {
      "cell_type": "code",
      "metadata": {
        "colab": {
          "base_uri": "https://localhost:8080/",
          "height": 375
        },
        "id": "CG_jLwHqrqcJ",
        "outputId": "d2589d64-0628-4a1a-a461-9d4fd1a49cdf"
      },
      "source": [
        "stock_df = yf.download(random_pick, \n",
        "                      start='2019-01-01', \n",
        "                      end='2021-06-12', \n",
        "                      progress=False,\n",
        ")\n",
        "stock_df.head()"
      ],
      "execution_count": null,
      "outputs": [
        {
          "output_type": "execute_result",
          "data": {
            "text/html": [
              "<div>\n",
              "<style scoped>\n",
              "    .dataframe tbody tr th:only-of-type {\n",
              "        vertical-align: middle;\n",
              "    }\n",
              "\n",
              "    .dataframe tbody tr th {\n",
              "        vertical-align: top;\n",
              "    }\n",
              "\n",
              "    .dataframe thead tr th {\n",
              "        text-align: left;\n",
              "    }\n",
              "\n",
              "    .dataframe thead tr:last-of-type th {\n",
              "        text-align: right;\n",
              "    }\n",
              "</style>\n",
              "<table border=\"1\" class=\"dataframe\">\n",
              "  <thead>\n",
              "    <tr>\n",
              "      <th></th>\n",
              "      <th colspan=\"2\" halign=\"left\">Adj Close</th>\n",
              "      <th colspan=\"2\" halign=\"left\">Close</th>\n",
              "      <th colspan=\"2\" halign=\"left\">High</th>\n",
              "      <th colspan=\"2\" halign=\"left\">Low</th>\n",
              "      <th colspan=\"2\" halign=\"left\">Open</th>\n",
              "      <th colspan=\"2\" halign=\"left\">Volume</th>\n",
              "    </tr>\n",
              "    <tr>\n",
              "      <th></th>\n",
              "      <th>ACN</th>\n",
              "      <th>ROK</th>\n",
              "      <th>ACN</th>\n",
              "      <th>ROK</th>\n",
              "      <th>ACN</th>\n",
              "      <th>ROK</th>\n",
              "      <th>ACN</th>\n",
              "      <th>ROK</th>\n",
              "      <th>ACN</th>\n",
              "      <th>ROK</th>\n",
              "      <th>ACN</th>\n",
              "      <th>ROK</th>\n",
              "    </tr>\n",
              "    <tr>\n",
              "      <th>Date</th>\n",
              "      <th></th>\n",
              "      <th></th>\n",
              "      <th></th>\n",
              "      <th></th>\n",
              "      <th></th>\n",
              "      <th></th>\n",
              "      <th></th>\n",
              "      <th></th>\n",
              "      <th></th>\n",
              "      <th></th>\n",
              "      <th></th>\n",
              "      <th></th>\n",
              "    </tr>\n",
              "  </thead>\n",
              "  <tbody>\n",
              "    <tr>\n",
              "      <th>2019-01-02</th>\n",
              "      <td>134.976608</td>\n",
              "      <td>142.401642</td>\n",
              "      <td>140.589996</td>\n",
              "      <td>150.869995</td>\n",
              "      <td>141.190002</td>\n",
              "      <td>151.990005</td>\n",
              "      <td>138.279999</td>\n",
              "      <td>148.070007</td>\n",
              "      <td>138.929993</td>\n",
              "      <td>148.520004</td>\n",
              "      <td>2059300</td>\n",
              "      <td>948300</td>\n",
              "    </tr>\n",
              "    <tr>\n",
              "      <th>2019-01-03</th>\n",
              "      <td>130.368256</td>\n",
              "      <td>137.370819</td>\n",
              "      <td>135.789993</td>\n",
              "      <td>145.539993</td>\n",
              "      <td>139.570007</td>\n",
              "      <td>149.970001</td>\n",
              "      <td>135.580002</td>\n",
              "      <td>145.210007</td>\n",
              "      <td>139.130005</td>\n",
              "      <td>149.360001</td>\n",
              "      <td>2801300</td>\n",
              "      <td>1190900</td>\n",
              "    </tr>\n",
              "    <tr>\n",
              "      <th>2019-01-04</th>\n",
              "      <td>135.437454</td>\n",
              "      <td>141.703201</td>\n",
              "      <td>141.070007</td>\n",
              "      <td>150.130005</td>\n",
              "      <td>141.339996</td>\n",
              "      <td>150.320007</td>\n",
              "      <td>137.500000</td>\n",
              "      <td>146.979996</td>\n",
              "      <td>138.119995</td>\n",
              "      <td>148.199997</td>\n",
              "      <td>2296400</td>\n",
              "      <td>1045000</td>\n",
              "    </tr>\n",
              "    <tr>\n",
              "      <th>2019-01-07</th>\n",
              "      <td>135.907867</td>\n",
              "      <td>142.883026</td>\n",
              "      <td>141.559998</td>\n",
              "      <td>151.380005</td>\n",
              "      <td>142.369995</td>\n",
              "      <td>153.500000</td>\n",
              "      <td>139.850006</td>\n",
              "      <td>148.729996</td>\n",
              "      <td>140.830002</td>\n",
              "      <td>150.399994</td>\n",
              "      <td>2315600</td>\n",
              "      <td>864900</td>\n",
              "    </tr>\n",
              "    <tr>\n",
              "      <th>2019-01-08</th>\n",
              "      <td>139.344925</td>\n",
              "      <td>144.751877</td>\n",
              "      <td>145.139999</td>\n",
              "      <td>153.360001</td>\n",
              "      <td>146.809998</td>\n",
              "      <td>153.529999</td>\n",
              "      <td>142.690002</td>\n",
              "      <td>150.240005</td>\n",
              "      <td>144.630005</td>\n",
              "      <td>152.199997</td>\n",
              "      <td>2647800</td>\n",
              "      <td>924400</td>\n",
              "    </tr>\n",
              "  </tbody>\n",
              "</table>\n",
              "</div>"
            ],
            "text/plain": [
              "             Adj Close                   Close  ...        Open   Volume         \n",
              "                   ACN         ROK         ACN  ...         ROK      ACN      ROK\n",
              "Date                                            ...                              \n",
              "2019-01-02  134.976608  142.401642  140.589996  ...  148.520004  2059300   948300\n",
              "2019-01-03  130.368256  137.370819  135.789993  ...  149.360001  2801300  1190900\n",
              "2019-01-04  135.437454  141.703201  141.070007  ...  148.199997  2296400  1045000\n",
              "2019-01-07  135.907867  142.883026  141.559998  ...  150.399994  2315600   864900\n",
              "2019-01-08  139.344925  144.751877  145.139999  ...  152.199997  2647800   924400\n",
              "\n",
              "[5 rows x 12 columns]"
            ]
          },
          "metadata": {},
          "execution_count": 109
        }
      ]
    },
    {
      "cell_type": "code",
      "metadata": {
        "colab": {
          "base_uri": "https://localhost:8080/"
        },
        "id": "WD_FE0rdsAM5",
        "outputId": "8a7886a2-7898-460b-9d80-9750edfb9881"
      },
      "source": [
        "stock_df = yf.download(random_pick)"
      ],
      "execution_count": null,
      "outputs": [
        {
          "output_type": "stream",
          "name": "stdout",
          "text": [
            "[*********************100%***********************]  2 of 2 completed\n"
          ]
        }
      ]
    },
    {
      "cell_type": "code",
      "metadata": {
        "colab": {
          "base_uri": "https://localhost:8080/"
        },
        "id": "h909oe7iq7PK",
        "outputId": "7ce3fa62-f2f3-4d22-b33e-5ea0cd4984a8"
      },
      "source": [
        "stock_list  = sample_pick.to_string(index=False)\n",
        "print(type(stock_list))\n",
        "\n",
        "random_pick = stock_list.split()\n",
        "print(random_pick)"
      ],
      "execution_count": null,
      "outputs": [
        {
          "output_type": "stream",
          "name": "stdout",
          "text": [
            "<class 'str'>\n",
            "['ROK', 'ACN']\n"
          ]
        }
      ]
    },
    {
      "cell_type": "code",
      "metadata": {
        "colab": {
          "base_uri": "https://localhost:8080/",
          "height": 302
        },
        "id": "53mOLbxxsG-S",
        "outputId": "c525b60e-db59-46a8-805b-3e61dd606b24"
      },
      "source": [
        "ticker = yf.Ticker(random_pick[0])\n",
        "stock_df = ticker.history(period=\"5y\")\n",
        "stock_df['Close'].plot(title=random_pick[0] + \"'s stock price\")"
      ],
      "execution_count": null,
      "outputs": [
        {
          "output_type": "execute_result",
          "data": {
            "text/plain": [
              "<matplotlib.axes._subplots.AxesSubplot at 0x7feee4803fd0>"
            ]
          },
          "metadata": {},
          "execution_count": 113
        },
        {
          "output_type": "display_data",
          "data": {
            "image/png": "[encoded data removed]",
            "text/plain": [
              "<Figure size 432x288 with 1 Axes>"
            ]
          },
          "metadata": {
            "needs_background": "light"
          }
        }
      ]
    },
    {
      "cell_type": "code",
      "metadata": {
        "colab": {
          "base_uri": "https://localhost:8080/",
          "height": 302
        },
        "id": "t8K8ZSdCsMA2",
        "outputId": "a092b874-a881-4021-bc1a-6a7cff998160"
      },
      "source": [
        "ticker = yf.Ticker(random_pick[1])\n",
        "stock_df = ticker.history(period=\"5y\")\n",
        "stock_df['Close'].plot(title=random_pick[1] + \"'s stock price\")"
      ],
      "execution_count": null,
      "outputs": [
        {
          "output_type": "execute_result",
          "data": {
            "text/plain": [
              "<matplotlib.axes._subplots.AxesSubplot at 0x7feee16ae490>"
            ]
          },
          "metadata": {},
          "execution_count": 114
        },
        {
          "output_type": "display_data",
          "data": {
            "image/png": "[encoded data removed]",
            "text/plain": [
              "<Figure size 432x288 with 1 Axes>"
            ]
          },
          "metadata": {
            "needs_background": "light"
          }
        }
      ]
    },
    {
      "cell_type": "code",
      "metadata": {
        "colab": {
          "base_uri": "https://localhost:8080/",
          "height": 238
        },
        "id": "vNK4io2Dsc9F",
        "outputId": "4a839692-4a2c-40ac-942f-787d822a2a9e"
      },
      "source": [
        "yahoo_financials = YahooFinancials(random_pick)\n",
        "data = yahoo_financials.get_historical_price_data(start_date='2019-01-01', \n",
        "                                                  end_date='2019-12-31', \n",
        "                                                  time_interval='weekly')\n",
        "stock_df = pd.DataFrame(data[random_pick[0]]['prices'])\n",
        "stock_df = stock_df.drop('date', axis=1).set_index('formatted_date')\n",
        "stock_df.head()"
      ],
      "execution_count": null,
      "outputs": [
        {
          "output_type": "execute_result",
          "data": {
            "text/html": [
              "<div>\n",
              "<style scoped>\n",
              "    .dataframe tbody tr th:only-of-type {\n",
              "        vertical-align: middle;\n",
              "    }\n",
              "\n",
              "    .dataframe tbody tr th {\n",
              "        vertical-align: top;\n",
              "    }\n",
              "\n",
              "    .dataframe thead th {\n",
              "        text-align: right;\n",
              "    }\n",
              "</style>\n",
              "<table border=\"1\" class=\"dataframe\">\n",
              "  <thead>\n",
              "    <tr style=\"text-align: right;\">\n",
              "      <th></th>\n",
              "      <th>high</th>\n",
              "      <th>low</th>\n",
              "      <th>open</th>\n",
              "      <th>close</th>\n",
              "      <th>volume</th>\n",
              "      <th>adjclose</th>\n",
              "    </tr>\n",
              "    <tr>\n",
              "      <th>formatted_date</th>\n",
              "      <th></th>\n",
              "      <th></th>\n",
              "      <th></th>\n",
              "      <th></th>\n",
              "      <th></th>\n",
              "      <th></th>\n",
              "    </tr>\n",
              "  </thead>\n",
              "  <tbody>\n",
              "    <tr>\n",
              "      <th>2019-01-01</th>\n",
              "      <td>153.500000</td>\n",
              "      <td>145.210007</td>\n",
              "      <td>148.520004</td>\n",
              "      <td>151.380005</td>\n",
              "      <td>4049100</td>\n",
              "      <td>142.883041</td>\n",
              "    </tr>\n",
              "    <tr>\n",
              "      <th>2019-01-08</th>\n",
              "      <td>157.220001</td>\n",
              "      <td>150.240005</td>\n",
              "      <td>152.199997</td>\n",
              "      <td>156.199997</td>\n",
              "      <td>5566600</td>\n",
              "      <td>147.432495</td>\n",
              "    </tr>\n",
              "    <tr>\n",
              "      <th>2019-01-15</th>\n",
              "      <td>165.839996</td>\n",
              "      <td>153.940002</td>\n",
              "      <td>156.289993</td>\n",
              "      <td>164.750000</td>\n",
              "      <td>4728300</td>\n",
              "      <td>155.502594</td>\n",
              "    </tr>\n",
              "    <tr>\n",
              "      <th>2019-01-22</th>\n",
              "      <td>166.929993</td>\n",
              "      <td>159.850006</td>\n",
              "      <td>163.710007</td>\n",
              "      <td>163.250000</td>\n",
              "      <td>5451000</td>\n",
              "      <td>154.086746</td>\n",
              "    </tr>\n",
              "    <tr>\n",
              "      <th>2019-01-29</th>\n",
              "      <td>179.899994</td>\n",
              "      <td>166.309998</td>\n",
              "      <td>179.800003</td>\n",
              "      <td>169.679993</td>\n",
              "      <td>8498500</td>\n",
              "      <td>160.155838</td>\n",
              "    </tr>\n",
              "  </tbody>\n",
              "</table>\n",
              "</div>"
            ],
            "text/plain": [
              "                      high         low  ...   volume    adjclose\n",
              "formatted_date                          ...                     \n",
              "2019-01-01      153.500000  145.210007  ...  4049100  142.883041\n",
              "2019-01-08      157.220001  150.240005  ...  5566600  147.432495\n",
              "2019-01-15      165.839996  153.940002  ...  4728300  155.502594\n",
              "2019-01-22      166.929993  159.850006  ...  5451000  154.086746\n",
              "2019-01-29      179.899994  166.309998  ...  8498500  160.155838\n",
              "\n",
              "[5 rows x 6 columns]"
            ]
          },
          "metadata": {},
          "execution_count": 115
        }
      ]
    },
    {
      "cell_type": "code",
      "metadata": {
        "colab": {
          "base_uri": "https://localhost:8080/",
          "height": 238
        },
        "id": "_HLNEVuZsouT",
        "outputId": "a5623d53-7f58-4276-c092-6b7c07ed4283"
      },
      "source": [
        "yahoo_financials = YahooFinancials(random_pick[1])\n",
        "data=yahoo_financials.get_historical_price_data(\"2019-07-10\", \"2021-05-30\", \"monthly\")\n",
        "btc_df = pd.DataFrame(data[random_pick[1]]['prices'])\n",
        "btc_df = btc_df.drop('date', axis=1).set_index('formatted_date')\n",
        "btc_df.head()"
      ],
      "execution_count": null,
      "outputs": [
        {
          "output_type": "execute_result",
          "data": {
            "text/html": [
              "<div>\n",
              "<style scoped>\n",
              "    .dataframe tbody tr th:only-of-type {\n",
              "        vertical-align: middle;\n",
              "    }\n",
              "\n",
              "    .dataframe tbody tr th {\n",
              "        vertical-align: top;\n",
              "    }\n",
              "\n",
              "    .dataframe thead th {\n",
              "        text-align: right;\n",
              "    }\n",
              "</style>\n",
              "<table border=\"1\" class=\"dataframe\">\n",
              "  <thead>\n",
              "    <tr style=\"text-align: right;\">\n",
              "      <th></th>\n",
              "      <th>high</th>\n",
              "      <th>low</th>\n",
              "      <th>open</th>\n",
              "      <th>close</th>\n",
              "      <th>volume</th>\n",
              "      <th>adjclose</th>\n",
              "    </tr>\n",
              "    <tr>\n",
              "      <th>formatted_date</th>\n",
              "      <th></th>\n",
              "      <th></th>\n",
              "      <th></th>\n",
              "      <th></th>\n",
              "      <th></th>\n",
              "      <th></th>\n",
              "    </tr>\n",
              "  </thead>\n",
              "  <tbody>\n",
              "    <tr>\n",
              "      <th>2019-08-01</th>\n",
              "      <td>200.679993</td>\n",
              "      <td>184.229996</td>\n",
              "      <td>193.330002</td>\n",
              "      <td>198.169998</td>\n",
              "      <td>40805700</td>\n",
              "      <td>191.833435</td>\n",
              "    </tr>\n",
              "    <tr>\n",
              "      <th>2019-09-01</th>\n",
              "      <td>202.800003</td>\n",
              "      <td>187.279999</td>\n",
              "      <td>196.360001</td>\n",
              "      <td>192.350006</td>\n",
              "      <td>43457400</td>\n",
              "      <td>186.199554</td>\n",
              "    </tr>\n",
              "    <tr>\n",
              "      <th>2019-10-01</th>\n",
              "      <td>193.369995</td>\n",
              "      <td>181.970001</td>\n",
              "      <td>192.600006</td>\n",
              "      <td>185.419998</td>\n",
              "      <td>42679200</td>\n",
              "      <td>179.491150</td>\n",
              "    </tr>\n",
              "    <tr>\n",
              "      <th>2019-11-01</th>\n",
              "      <td>201.660004</td>\n",
              "      <td>185.479996</td>\n",
              "      <td>186.699997</td>\n",
              "      <td>201.160004</td>\n",
              "      <td>30349000</td>\n",
              "      <td>195.564499</td>\n",
              "    </tr>\n",
              "    <tr>\n",
              "      <th>2019-12-01</th>\n",
              "      <td>213.250000</td>\n",
              "      <td>196.470001</td>\n",
              "      <td>201.440002</td>\n",
              "      <td>210.570007</td>\n",
              "      <td>39647400</td>\n",
              "      <td>204.712738</td>\n",
              "    </tr>\n",
              "  </tbody>\n",
              "</table>\n",
              "</div>"
            ],
            "text/plain": [
              "                      high         low  ...    volume    adjclose\n",
              "formatted_date                          ...                      \n",
              "2019-08-01      200.679993  184.229996  ...  40805700  191.833435\n",
              "2019-09-01      202.800003  187.279999  ...  43457400  186.199554\n",
              "2019-10-01      193.369995  181.970001  ...  42679200  179.491150\n",
              "2019-11-01      201.660004  185.479996  ...  30349000  195.564499\n",
              "2019-12-01      213.250000  196.470001  ...  39647400  204.712738\n",
              "\n",
              "[5 rows x 6 columns]"
            ]
          },
          "metadata": {},
          "execution_count": 116
        }
      ]
    },
    {
      "cell_type": "code",
      "metadata": {
        "id": "AZ-aqFuwsvvm"
      },
      "source": [
        ""
      ],
      "execution_count": null,
      "outputs": []
    }
  ]
}