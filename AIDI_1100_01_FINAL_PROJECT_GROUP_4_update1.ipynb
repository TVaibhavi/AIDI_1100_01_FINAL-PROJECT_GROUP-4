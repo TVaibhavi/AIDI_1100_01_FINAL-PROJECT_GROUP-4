{
  "nbformat": 4,
  "nbformat_minor": 0,
  "metadata": {
    "colab": {
      "name": "AIDI_1100_01_FINAL_PROJECT_GROUP_4 (1) (1).ipynb",
      "provenance": [],
      "collapsed_sections": []
    },
    "kernelspec": {
      "display_name": "Python 3",
      "language": "python",
      "name": "python3"
    }
  },
  "cells": [
    {
      "cell_type": "code",
      "metadata": {
        "id": "NhsP2fCmErLx"
      },
      "source": [
        "import requests\n",
        "from bs4 import BeautifulSoup\n",
        "import datetime\n",
        "import csv\n",
        "import pandas as pd\n",
        "import re"
      ],
      "execution_count": null,
      "outputs": []
    },
    {
      "cell_type": "code",
      "metadata": {
        "id": "X94SpdEOEg95"
      },
      "source": [
        "# Constants\n",
        "News_URL = \"https://www.prnewswire.com/news-releases/news-releases-list/?\"\n",
        "#News_URL = \"https://www.prnewswire.com/news-releases/news-releases-list/?month=11&day=24&year=2021&hour=00&page=1&pagesize=100\"\n",
        "\n",
        "Total_Days = 7 #Number of days to fetch\n"
      ],
      "execution_count": null,
      "outputs": []
    },
    {
      "cell_type": "code",
      "metadata": {
        "id": "SoIkEyt4ExMJ"
      },
      "source": [
        "# Global Variables\n",
        "arr_Date = []\n",
        "arr_newsTitle = []\n",
        "arr_newsPara = []"
      ],
      "execution_count": null,
      "outputs": []
    },
    {
      "cell_type": "code",
      "metadata": {
        "id": "xYFhYfCbE6Qg"
      },
      "source": [
        "# Date for extracting webpage\n",
        "currentDate = datetime.datetime.now()\n",
        "tempDate = currentDate"
      ],
      "execution_count": null,
      "outputs": []
    },
    {
      "cell_type": "code",
      "metadata": {
        "id": "yPaKom5Ou9M6"
      },
      "source": [
        "def prepare_URL(dayToFetch) -> str:\n",
        "   urlByDay = News_URL + 'month=' + str(currentDate.month) + '&day=' + str(dayToFetch) + '&year=' + str(currentDate.year) + '&hour=00&page=1&pagesize=100'\n",
        "   return urlByDay"
      ],
      "execution_count": null,
      "outputs": []
    },
    {
      "cell_type": "code",
      "metadata": {
        "id": "tzMGO92NIakg"
      },
      "source": [
        "def parse_News(forDay):\n",
        "  url = prepare_URL(forDay)\n",
        "  page = requests.get(url)\n",
        "  soup = BeautifulSoup(page.content, \"html.parser\")\n",
        "\n",
        "  # to extract main layout content\n",
        "  main = soup.find_all('main',class_='headline-listing')\n",
        "\n",
        "  for elements in main:\n",
        "    lstContainer = elements.find_all('section',class_='container')\n",
        "    for mainHead in lstContainer:\n",
        "      row = mainHead.find_all('div',class_='row')\n",
        "      for mainCol in row:\n",
        "        rowList = mainCol.find_all('div',class_='col-md-8 col-sm-8 card-list card-list-hr')\n",
        "        for newsCard in rowList:\n",
        "          newsLst = newsCard.find_all('a',class_='newsreleaseconsolidatelink')\n",
        "          for content in newsLst:\n",
        "            small = content.h3.small.text\n",
        "            content.h3.small.decompose()\n",
        "            h3 = content.h3.text.replace(\"\\n\", \"\")\n",
        "            p =  content.p.text\n",
        "            arr_Date.append(small)\n",
        "            arr_newsTitle.append(h3)\n",
        "            arr_newsPara.append(p)"
      ],
      "execution_count": null,
      "outputs": []
    },
    {
      "cell_type": "code",
      "metadata": {
        "id": "P65CV6KnOCIe"
      },
      "source": [
        "#Fetch & Parse data of last week\n",
        "i = 0\n",
        "while i < Total_Days:\n",
        "  parse_News(currentDate.day - i)\n",
        "  i = i + 1"
      ],
      "execution_count": null,
      "outputs": []
    },
    {
      "cell_type": "code",
      "metadata": {
        "id": "5pURL0S_bEMe",
        "colab": {
          "base_uri": "https://localhost:8080/",
          "height": 206
        },
        "outputId": "d48deab9-5a37-48e7-9662-22d0b7ea798e"
      },
      "source": [
        "# Write data to csv\n",
        "dictNews = {'Date': arr_Date, 'Title': arr_newsTitle, 'Content': arr_newsPara}\n",
        "df = pd.DataFrame(dictNews)\n",
        "df.to_csv('newsData.csv')\n",
        "\n",
        "df.head()"
      ],
      "execution_count": null,
      "outputs": [
        {
          "output_type": "execute_result",
          "data": {
            "text/html": [
              "<div>\n",
              "<style scoped>\n",
              "    .dataframe tbody tr th:only-of-type {\n",
              "        vertical-align: middle;\n",
              "    }\n",
              "\n",
              "    .dataframe tbody tr th {\n",
              "        vertical-align: top;\n",
              "    }\n",
              "\n",
              "    .dataframe thead th {\n",
              "        text-align: right;\n",
              "    }\n",
              "</style>\n",
              "<table border=\"1\" class=\"dataframe\">\n",
              "  <thead>\n",
              "    <tr style=\"text-align: right;\">\n",
              "      <th></th>\n",
              "      <th>Date</th>\n",
              "      <th>Title</th>\n",
              "      <th>Content</th>\n",
              "    </tr>\n",
              "  </thead>\n",
              "  <tbody>\n",
              "    <tr>\n",
              "      <th>0</th>\n",
              "      <td>Nov 24, 2021, 23:30 ET</td>\n",
              "      <td>Artificial Intelligence Robots Market to grow ...</td>\n",
              "      <td>The artificial intelligence robots market size...</td>\n",
              "    </tr>\n",
              "    <tr>\n",
              "      <th>1</th>\n",
              "      <td>Nov 24, 2021, 23:02 ET</td>\n",
              "      <td>L'innovateur mondial dans le domaine de la séc...</td>\n",
              "      <td>Le PDG de Safely2Prosperity LLC, John Norris, ...</td>\n",
              "    </tr>\n",
              "    <tr>\n",
              "      <th>2</th>\n",
              "      <td>Nov 24, 2021, 23:00 ET</td>\n",
              "      <td>The Filmore Da Nang by Filmore to Launch in Ho...</td>\n",
              "      <td>Benefitting from the influx of investment from...</td>\n",
              "    </tr>\n",
              "    <tr>\n",
              "      <th>3</th>\n",
              "      <td>Nov 24, 2021, 22:42 ET</td>\n",
              "      <td>Baidu Apollo Wins Approval for Commercialized ...</td>\n",
              "      <td>Baidu received the approval for commercial ope...</td>\n",
              "    </tr>\n",
              "    <tr>\n",
              "      <th>4</th>\n",
              "      <td>Nov 24, 2021, 22:30 ET</td>\n",
              "      <td>Industrial Control Systems Security Market to ...</td>\n",
              "      <td>The industrial control systems security market...</td>\n",
              "    </tr>\n",
              "  </tbody>\n",
              "</table>\n",
              "</div>"
            ],
            "text/plain": [
              "                     Date  ...                                            Content\n",
              "0  Nov 24, 2021, 23:30 ET  ...  The artificial intelligence robots market size...\n",
              "1  Nov 24, 2021, 23:02 ET  ...  Le PDG de Safely2Prosperity LLC, John Norris, ...\n",
              "2  Nov 24, 2021, 23:00 ET  ...  Benefitting from the influx of investment from...\n",
              "3  Nov 24, 2021, 22:42 ET  ...  Baidu received the approval for commercial ope...\n",
              "4  Nov 24, 2021, 22:30 ET  ...  The industrial control systems security market...\n",
              "\n",
              "[5 rows x 3 columns]"
            ]
          },
          "metadata": {},
          "execution_count": 8
        }
      ]
    },
    {
      "cell_type": "code",
      "metadata": {
        "id": "-91kJ1hdE4BM"
      },
      "source": [
        "#stock = df.loc[df['Content'].str.contains(\"NYSE: \", case=False)]\n",
        "#stock = df.loc[df['Content'].str.extract(\"NYSE: \")]"
      ],
      "execution_count": null,
      "outputs": []
    },
    {
      "cell_type": "code",
      "metadata": {
        "colab": {
          "base_uri": "https://localhost:8080/",
          "height": 990
        },
        "id": "K2h3XKOdXAtQ",
        "outputId": "29923b9e-eee3-47c6-d1e9-272bfac4ac3c"
      },
      "source": [
        "stock = df['Content'].str.extract('NYSE: ([a-zA-Z]+)', expand=True)\n",
        "\n",
        "\n",
        "#stock = df.loc[df['newCol'].str.contains(\"NYSE: \", case=False)]\n",
        "stock.head(30)"
      ],
      "execution_count": null,
      "outputs": [
        {
          "output_type": "execute_result",
          "data": {
            "text/html": [
              "<div>\n",
              "<style scoped>\n",
              "    .dataframe tbody tr th:only-of-type {\n",
              "        vertical-align: middle;\n",
              "    }\n",
              "\n",
              "    .dataframe tbody tr th {\n",
              "        vertical-align: top;\n",
              "    }\n",
              "\n",
              "    .dataframe thead th {\n",
              "        text-align: right;\n",
              "    }\n",
              "</style>\n",
              "<table border=\"1\" class=\"dataframe\">\n",
              "  <thead>\n",
              "    <tr style=\"text-align: right;\">\n",
              "      <th></th>\n",
              "      <th>0</th>\n",
              "    </tr>\n",
              "  </thead>\n",
              "  <tbody>\n",
              "    <tr>\n",
              "      <th>0</th>\n",
              "      <td>NaN</td>\n",
              "    </tr>\n",
              "    <tr>\n",
              "      <th>1</th>\n",
              "      <td>NaN</td>\n",
              "    </tr>\n",
              "    <tr>\n",
              "      <th>2</th>\n",
              "      <td>NaN</td>\n",
              "    </tr>\n",
              "    <tr>\n",
              "      <th>3</th>\n",
              "      <td>NaN</td>\n",
              "    </tr>\n",
              "    <tr>\n",
              "      <th>4</th>\n",
              "      <td>NaN</td>\n",
              "    </tr>\n",
              "    <tr>\n",
              "      <th>5</th>\n",
              "      <td>NaN</td>\n",
              "    </tr>\n",
              "    <tr>\n",
              "      <th>6</th>\n",
              "      <td>NaN</td>\n",
              "    </tr>\n",
              "    <tr>\n",
              "      <th>7</th>\n",
              "      <td>NaN</td>\n",
              "    </tr>\n",
              "    <tr>\n",
              "      <th>8</th>\n",
              "      <td>NaN</td>\n",
              "    </tr>\n",
              "    <tr>\n",
              "      <th>9</th>\n",
              "      <td>NaN</td>\n",
              "    </tr>\n",
              "    <tr>\n",
              "      <th>10</th>\n",
              "      <td>NaN</td>\n",
              "    </tr>\n",
              "    <tr>\n",
              "      <th>11</th>\n",
              "      <td>NaN</td>\n",
              "    </tr>\n",
              "    <tr>\n",
              "      <th>12</th>\n",
              "      <td>NaN</td>\n",
              "    </tr>\n",
              "    <tr>\n",
              "      <th>13</th>\n",
              "      <td>NaN</td>\n",
              "    </tr>\n",
              "    <tr>\n",
              "      <th>14</th>\n",
              "      <td>NaN</td>\n",
              "    </tr>\n",
              "    <tr>\n",
              "      <th>15</th>\n",
              "      <td>NaN</td>\n",
              "    </tr>\n",
              "    <tr>\n",
              "      <th>16</th>\n",
              "      <td>NaN</td>\n",
              "    </tr>\n",
              "    <tr>\n",
              "      <th>17</th>\n",
              "      <td>NaN</td>\n",
              "    </tr>\n",
              "    <tr>\n",
              "      <th>18</th>\n",
              "      <td>NaN</td>\n",
              "    </tr>\n",
              "    <tr>\n",
              "      <th>19</th>\n",
              "      <td>NaN</td>\n",
              "    </tr>\n",
              "    <tr>\n",
              "      <th>20</th>\n",
              "      <td>NaN</td>\n",
              "    </tr>\n",
              "    <tr>\n",
              "      <th>21</th>\n",
              "      <td>NaN</td>\n",
              "    </tr>\n",
              "    <tr>\n",
              "      <th>22</th>\n",
              "      <td>NaN</td>\n",
              "    </tr>\n",
              "    <tr>\n",
              "      <th>23</th>\n",
              "      <td>NaN</td>\n",
              "    </tr>\n",
              "    <tr>\n",
              "      <th>24</th>\n",
              "      <td>NaN</td>\n",
              "    </tr>\n",
              "    <tr>\n",
              "      <th>25</th>\n",
              "      <td>NaN</td>\n",
              "    </tr>\n",
              "    <tr>\n",
              "      <th>26</th>\n",
              "      <td>NaN</td>\n",
              "    </tr>\n",
              "    <tr>\n",
              "      <th>27</th>\n",
              "      <td>NaN</td>\n",
              "    </tr>\n",
              "    <tr>\n",
              "      <th>28</th>\n",
              "      <td>NaN</td>\n",
              "    </tr>\n",
              "    <tr>\n",
              "      <th>29</th>\n",
              "      <td>NaN</td>\n",
              "    </tr>\n",
              "  </tbody>\n",
              "</table>\n",
              "</div>"
            ],
            "text/plain": [
              "      0\n",
              "0   NaN\n",
              "1   NaN\n",
              "2   NaN\n",
              "3   NaN\n",
              "4   NaN\n",
              "5   NaN\n",
              "6   NaN\n",
              "7   NaN\n",
              "8   NaN\n",
              "9   NaN\n",
              "10  NaN\n",
              "11  NaN\n",
              "12  NaN\n",
              "13  NaN\n",
              "14  NaN\n",
              "15  NaN\n",
              "16  NaN\n",
              "17  NaN\n",
              "18  NaN\n",
              "19  NaN\n",
              "20  NaN\n",
              "21  NaN\n",
              "22  NaN\n",
              "23  NaN\n",
              "24  NaN\n",
              "25  NaN\n",
              "26  NaN\n",
              "27  NaN\n",
              "28  NaN\n",
              "29  NaN"
            ]
          },
          "metadata": {},
          "execution_count": 30
        }
      ]
    },
    {
      "cell_type": "code",
      "metadata": {
        "colab": {
          "base_uri": "https://localhost:8080/",
          "height": 288
        },
        "id": "7TxQNsMdTpaG",
        "outputId": "faa1e5b3-666c-47e4-b029-e843b7857de7"
      },
      "source": [
        "re.findall('NYSE: ([a-zA-Z]+)', df['Content'].str)\n"
      ],
      "execution_count": null,
      "outputs": [
        {
          "output_type": "error",
          "ename": "TypeError",
          "evalue": "ignored",
          "traceback": [
            "\u001b[0;31m---------------------------------------------------------------------------\u001b[0m",
            "\u001b[0;31mTypeError\u001b[0m                                 Traceback (most recent call last)",
            "\u001b[0;32m<ipython-input-15-338f7e26478c>\u001b[0m in \u001b[0;36m<module>\u001b[0;34m()\u001b[0m\n\u001b[0;32m----> 1\u001b[0;31m \u001b[0mre\u001b[0m\u001b[0;34m.\u001b[0m\u001b[0mfindall\u001b[0m\u001b[0;34m(\u001b[0m\u001b[0;34m'NYSE: ([a-zA-Z]+)'\u001b[0m\u001b[0;34m,\u001b[0m \u001b[0mdf\u001b[0m\u001b[0;34m[\u001b[0m\u001b[0;34m'Content'\u001b[0m\u001b[0;34m]\u001b[0m\u001b[0;34m.\u001b[0m\u001b[0mstr\u001b[0m\u001b[0;34m)\u001b[0m\u001b[0;34m\u001b[0m\u001b[0;34m\u001b[0m\u001b[0m\n\u001b[0m",
            "\u001b[0;32m/usr/lib/python3.7/re.py\u001b[0m in \u001b[0;36mfindall\u001b[0;34m(pattern, string, flags)\u001b[0m\n\u001b[1;32m    223\u001b[0m \u001b[0;34m\u001b[0m\u001b[0m\n\u001b[1;32m    224\u001b[0m     Empty matches are included in the result.\"\"\"\n\u001b[0;32m--> 225\u001b[0;31m     \u001b[0;32mreturn\u001b[0m \u001b[0m_compile\u001b[0m\u001b[0;34m(\u001b[0m\u001b[0mpattern\u001b[0m\u001b[0;34m,\u001b[0m \u001b[0mflags\u001b[0m\u001b[0;34m)\u001b[0m\u001b[0;34m.\u001b[0m\u001b[0mfindall\u001b[0m\u001b[0;34m(\u001b[0m\u001b[0mstring\u001b[0m\u001b[0;34m)\u001b[0m\u001b[0;34m\u001b[0m\u001b[0;34m\u001b[0m\u001b[0m\n\u001b[0m\u001b[1;32m    226\u001b[0m \u001b[0;34m\u001b[0m\u001b[0m\n\u001b[1;32m    227\u001b[0m \u001b[0;32mdef\u001b[0m \u001b[0mfinditer\u001b[0m\u001b[0;34m(\u001b[0m\u001b[0mpattern\u001b[0m\u001b[0;34m,\u001b[0m \u001b[0mstring\u001b[0m\u001b[0;34m,\u001b[0m \u001b[0mflags\u001b[0m\u001b[0;34m=\u001b[0m\u001b[0;36m0\u001b[0m\u001b[0;34m)\u001b[0m\u001b[0;34m:\u001b[0m\u001b[0;34m\u001b[0m\u001b[0;34m\u001b[0m\u001b[0m\n",
            "\u001b[0;31mTypeError\u001b[0m: expected string or bytes-like object"
          ]
        }
      ]
    }
  ]
}