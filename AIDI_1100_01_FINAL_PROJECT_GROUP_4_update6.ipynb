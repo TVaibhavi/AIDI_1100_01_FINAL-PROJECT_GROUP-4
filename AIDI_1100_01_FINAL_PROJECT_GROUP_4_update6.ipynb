{
  "nbformat": 4,
  "nbformat_minor": 0,
  "metadata": {
    "colab": {
      "name": "AIDI_1100_01_FINAL_PROJECT_GROUP_4_update5.ipynb",
      "provenance": [],
      "collapsed_sections": []
    },
    "kernelspec": {
      "display_name": "Python 3",
      "language": "python",
      "name": "python3"
    },
    "language_info": {
      "codemirror_mode": {
        "name": "ipython",
        "version": 3
      },
      "file_extension": ".py",
      "mimetype": "text/x-python",
      "name": "python",
      "nbconvert_exporter": "python",
      "pygments_lexer": "ipython3",
      "version": "3.8.3"
    }
  },
  "cells": [
    {
      "cell_type": "code",
      "metadata": {
        "id": "NhsP2fCmErLx",
        "colab": {
          "base_uri": "https://localhost:8080/",
          "height": 374
        },
        "outputId": "3a2c67b0-ed41-4bef-f86a-655ba2ed8d5f"
      },
      "source": [
        "import requests\n",
        "from bs4 import BeautifulSoup\n",
        "import datetime\n",
        "import csv\n",
        "import pandas as pd\n",
        "import re\n",
        "import matplotlib.pyplot as plt"
      ],
      "execution_count": 37,
      "outputs": [
        {
          "output_type": "error",
          "ename": "ModuleNotFoundError",
          "evalue": "ignored",
          "traceback": [
            "\u001b[0;31m---------------------------------------------------------------------------\u001b[0m",
            "\u001b[0;31mModuleNotFoundError\u001b[0m                       Traceback (most recent call last)",
            "\u001b[0;32m<ipython-input-37-7386acce8c3b>\u001b[0m in \u001b[0;36m<module>\u001b[0;34m()\u001b[0m\n\u001b[1;32m      1\u001b[0m \u001b[0;32mimport\u001b[0m \u001b[0mrequests\u001b[0m\u001b[0;34m\u001b[0m\u001b[0;34m\u001b[0m\u001b[0m\n\u001b[1;32m      2\u001b[0m \u001b[0;32mfrom\u001b[0m \u001b[0mbs4\u001b[0m \u001b[0;32mimport\u001b[0m \u001b[0mBeautifulSoup\u001b[0m\u001b[0;34m\u001b[0m\u001b[0;34m\u001b[0m\u001b[0m\n\u001b[0;32m----> 3\u001b[0;31m \u001b[0;32mimport\u001b[0m \u001b[0mdatetime\u001b[0m\u001b[0;34m,\u001b[0m \u001b[0mtimedelta\u001b[0m\u001b[0;34m\u001b[0m\u001b[0;34m\u001b[0m\u001b[0m\n\u001b[0m\u001b[1;32m      4\u001b[0m \u001b[0;32mimport\u001b[0m \u001b[0mcsv\u001b[0m\u001b[0;34m\u001b[0m\u001b[0;34m\u001b[0m\u001b[0m\n\u001b[1;32m      5\u001b[0m \u001b[0;32mimport\u001b[0m \u001b[0mpandas\u001b[0m \u001b[0;32mas\u001b[0m \u001b[0mpd\u001b[0m\u001b[0;34m\u001b[0m\u001b[0;34m\u001b[0m\u001b[0m\n",
            "\u001b[0;31mModuleNotFoundError\u001b[0m: No module named 'timedelta'",
            "",
            "\u001b[0;31m---------------------------------------------------------------------------\u001b[0;32m\nNOTE: If your import is failing due to a missing package, you can\nmanually install dependencies using either !pip or !apt.\n\nTo view examples of installing some common dependencies, click the\n\"Open Examples\" button below.\n\u001b[0;31m---------------------------------------------------------------------------\u001b[0m\n"
          ],
          "errorDetails": {
            "actions": [
              {
                "action": "open_url",
                "actionText": "Open Examples",
                "url": "/notebooks/snippets/importing_libraries.ipynb"
              }
            ]
          }
        }
      ]
    },
    {
      "cell_type": "code",
      "metadata": {
        "id": "X94SpdEOEg95"
      },
      "source": [
        "# Constants\n",
        "News_URL = \"https://www.prnewswire.com/news-releases/news-releases-list/?\"\n",
        "#News_URL = \"https://www.prnewswire.com/news-releases/news-releases-list/?month=11&day=24&year=2021&hour=00&page=1&pagesize=100\"\n",
        "\n",
        "Total_Days = 7 #Number of days to fetch\n",
        "StockSymbol_Required = 2"
      ],
      "execution_count": 2,
      "outputs": []
    },
    {
      "cell_type": "code",
      "metadata": {
        "id": "SoIkEyt4ExMJ"
      },
      "source": [
        "# Global Variables\n",
        "arr_Date = []\n",
        "arr_newsTitle = []\n",
        "arr_newsPara = []\n",
        "arr_newsUrl = []"
      ],
      "execution_count": 3,
      "outputs": []
    },
    {
      "cell_type": "code",
      "metadata": {
        "id": "xYFhYfCbE6Qg"
      },
      "source": [
        "# Date for extracting webpage\n",
        "currentDate = datetime.datetime.now()\n",
        "tempDate = currentDate\n",
        "stockPeriod = 60\n",
        "strEndDate = datetime.date.strftime(currentDate, \"%Y-%m-%d\")\n",
        "strStartDate = datetime.date.strftime(currentDate - datetime.timedelta(days=stockPeriod), \"%Y-%m-%d\")"
      ],
      "execution_count": 39,
      "outputs": []
    },
    {
      "cell_type": "code",
      "metadata": {
        "id": "yPaKom5Ou9M6"
      },
      "source": [
        "def prepare_URL(dayToFetch) -> str:\n",
        "   urlByDay = News_URL + 'month=' + str(currentDate.month) + '&day=' + str(dayToFetch) + '&year=' + str(currentDate.year) + '&hour=00&page=1&pagesize=100'\n",
        "   return urlByDay"
      ],
      "execution_count": 5,
      "outputs": []
    },
    {
      "cell_type": "code",
      "metadata": {
        "id": "tzMGO92NIakg"
      },
      "source": [
        "def parse_News(forDay):\n",
        "  url = prepare_URL(forDay)\n",
        "  page = requests.get(url)\n",
        "  soup = BeautifulSoup(page.content, \"html.parser\")\n",
        "\n",
        "  # to extract main layout content\n",
        "  main = soup.find_all('main',class_='headline-listing')\n",
        "\n",
        "  for elements in main:\n",
        "    lstContainer = elements.find_all('section',class_='container')\n",
        "    for mainHead in lstContainer:\n",
        "      row = mainHead.find_all('div',class_='row')\n",
        "      for mainCol in row:\n",
        "        rowList = mainCol.find_all('div',class_='col-md-8 col-sm-8 card-list card-list-hr')\n",
        "        for newsCard in rowList:\n",
        "          newsLst = newsCard.find_all('a',class_='newsreleaseconsolidatelink')\n",
        "          for content in newsLst:\n",
        "            href = content.get('href')\n",
        "            small = content.h3.small.text\n",
        "            content.h3.small.decompose()\n",
        "            h3 = content.h3.text.replace(\"\\n\", \"\")\n",
        "            p =  content.p.text\n",
        "            arr_Date.append(small)\n",
        "            arr_newsTitle.append(h3)\n",
        "            arr_newsPara.append(p)\n",
        "            arr_newsUrl.append(href)"
      ],
      "execution_count": 6,
      "outputs": []
    },
    {
      "cell_type": "code",
      "metadata": {
        "id": "P65CV6KnOCIe"
      },
      "source": [
        "#Fetch & Parse data of last week\n",
        "i = 0\n",
        "while i < Total_Days:\n",
        "  parse_News(currentDate.day - i)\n",
        "  i = i + 1"
      ],
      "execution_count": 7,
      "outputs": []
    },
    {
      "cell_type": "code",
      "metadata": {
        "colab": {
          "base_uri": "https://localhost:8080/",
          "height": 206
        },
        "id": "5pURL0S_bEMe",
        "outputId": "6e249605-d451-43da-f12f-70cd1fcce4d0"
      },
      "source": [
        "# Write data to csv\n",
        "dictNews = {'Date': arr_Date, 'Title': arr_newsTitle, 'Content': arr_newsPara, 'Url': arr_newsUrl}\n",
        "df = pd.DataFrame(dictNews)\n",
        "df.to_csv('newsData.csv')\n",
        "\n",
        "df.head()"
      ],
      "execution_count": 8,
      "outputs": [
        {
          "output_type": "execute_result",
          "data": {
            "text/html": [
              "<div>\n",
              "<style scoped>\n",
              "    .dataframe tbody tr th:only-of-type {\n",
              "        vertical-align: middle;\n",
              "    }\n",
              "\n",
              "    .dataframe tbody tr th {\n",
              "        vertical-align: top;\n",
              "    }\n",
              "\n",
              "    .dataframe thead th {\n",
              "        text-align: right;\n",
              "    }\n",
              "</style>\n",
              "<table border=\"1\" class=\"dataframe\">\n",
              "  <thead>\n",
              "    <tr style=\"text-align: right;\">\n",
              "      <th></th>\n",
              "      <th>Date</th>\n",
              "      <th>Title</th>\n",
              "      <th>Content</th>\n",
              "      <th>Url</th>\n",
              "    </tr>\n",
              "  </thead>\n",
              "  <tbody>\n",
              "    <tr>\n",
              "      <th>0</th>\n",
              "      <td>Dec 03, 2021, 23:40 ET</td>\n",
              "      <td>Taoyuan Forest International Tourism Resort of...</td>\n",
              "      <td>Taoyuan Forest International Tourism Resort wa...</td>\n",
              "      <td>/news-releases/taoyuan-forest-international-to...</td>\n",
              "    </tr>\n",
              "    <tr>\n",
              "      <th>1</th>\n",
              "      <td>Dec 03, 2021, 23:06 ET</td>\n",
              "      <td>IFF 2021: Weltwirtschaft wächst 2021 um 5,9 % ...</td>\n",
              "      <td>Das Internationale Finanzforum (IFF) hat heute...</td>\n",
              "      <td>/news-releases/iff-2021-weltwirtschaft-wachst-...</td>\n",
              "    </tr>\n",
              "    <tr>\n",
              "      <th>2</th>\n",
              "      <td>Dec 03, 2021, 23:06 ET</td>\n",
              "      <td>IFF 2021: la economía global crecerá un 5,9 % ...</td>\n",
              "      <td>El Foro Internacional de Finanzas (IFF) public...</td>\n",
              "      <td>/news-releases/iff-2021-la-economia-global-cre...</td>\n",
              "    </tr>\n",
              "    <tr>\n",
              "      <th>3</th>\n",
              "      <td>Dec 03, 2021, 23:06 ET</td>\n",
              "      <td>IFF 2021: economia global crescerá 5,9% em 202...</td>\n",
              "      <td>O Fórum Internacional de Finanças (IFF) lançou...</td>\n",
              "      <td>/news-releases/iff-2021-economia-global-cresce...</td>\n",
              "    </tr>\n",
              "    <tr>\n",
              "      <th>4</th>\n",
              "      <td>Dec 03, 2021, 23:06 ET</td>\n",
              "      <td>2021 IFF: Global Economy to Grow 5.9% in 2021 ...</td>\n",
              "      <td>International Finance Forum (IFF) today releas...</td>\n",
              "      <td>/news-releases/2021-iff-global-economy-to-grow...</td>\n",
              "    </tr>\n",
              "  </tbody>\n",
              "</table>\n",
              "</div>"
            ],
            "text/plain": [
              "                     Date  ...                                                Url\n",
              "0  Dec 03, 2021, 23:40 ET  ...  /news-releases/taoyuan-forest-international-to...\n",
              "1  Dec 03, 2021, 23:06 ET  ...  /news-releases/iff-2021-weltwirtschaft-wachst-...\n",
              "2  Dec 03, 2021, 23:06 ET  ...  /news-releases/iff-2021-la-economia-global-cre...\n",
              "3  Dec 03, 2021, 23:06 ET  ...  /news-releases/iff-2021-economia-global-cresce...\n",
              "4  Dec 03, 2021, 23:06 ET  ...  /news-releases/2021-iff-global-economy-to-grow...\n",
              "\n",
              "[5 rows x 4 columns]"
            ]
          },
          "metadata": {},
          "execution_count": 8
        }
      ]
    },
    {
      "cell_type": "code",
      "metadata": {
        "colab": {
          "base_uri": "https://localhost:8080/"
        },
        "id": "KQg2gxYatw2J",
        "outputId": "c8aca10e-bc64-4a9b-f2a9-e44845101871"
      },
      "source": [
        "#given a list of  few popular stock exchanges, user inputs one specific industry.\n",
        "print(\" 1.NYSE (New York Stock Exchange) \\n 2.TSX (Toronto Stock Exchange) \\n 3.NASDAQ ( National Association of Securities Dealers Automated Quotation)  \")\n",
        "choice = int(input(\"Please enter the respective number for choosing  a specific stock exchange from the above list: \"))\n",
        "\n"
      ],
      "execution_count": 9,
      "outputs": [
        {
          "name": "stdout",
          "output_type": "stream",
          "text": [
            " 1.NYSE (New York Stock Exchange) \n",
            " 2.TSX (Toronto Stock Exchange) \n",
            " 3.NASDAQ ( National Association of Securities Dealers Automated Quotation)  \n",
            "Please enter the respective number for choosing  a specific stock exchange from the above list: 1\n"
          ]
        }
      ]
    },
    {
      "cell_type": "code",
      "metadata": {
        "id": "v0aGcR-8tw2K"
      },
      "source": [
        "#searching the stock exchanges from the news dataframe \n",
        "stock_ex = { 1 : 'NYSE', 2:'TSX',3:'NASDAQ'}"
      ],
      "execution_count": 10,
      "outputs": []
    },
    {
      "cell_type": "code",
      "metadata": {
        "colab": {
          "base_uri": "https://localhost:8080/"
        },
        "id": "nxJXIrKPtw2K",
        "outputId": "6f5414aa-ffb7-4944-c748-40a4ba682ba7"
      },
      "source": [
        "StockIndustry_Search = stock_ex[choice]\n",
        "print(StockIndustry_Search)"
      ],
      "execution_count": 11,
      "outputs": [
        {
          "output_type": "stream",
          "name": "stdout",
          "text": [
            "NYSE\n"
          ]
        }
      ]
    },
    {
      "cell_type": "code",
      "metadata": {
        "id": "K2h3XKOdXAtQ"
      },
      "source": [
        "#Search stock symbols of given industry\n",
        "\n",
        "searchString = StockIndustry_Search + ': ([a-zA-Z]+)'\n",
        "df_stockSymbols = df['Content'].str.extract(searchString, expand=False)\n",
        "\n",
        "# Dropping the duplicates \n",
        "df_stockSymbols = df_stockSymbols.drop_duplicates()\n",
        "\n",
        "# Dropping the missing values.\n",
        "df_stockSymbols = df_stockSymbols.dropna() "
      ],
      "execution_count": 12,
      "outputs": []
    },
    {
      "cell_type": "code",
      "metadata": {
        "colab": {
          "base_uri": "https://localhost:8080/"
        },
        "id": "6vnrDiQFXalR",
        "outputId": "1cb0ad00-715b-4281-ad6c-fe2d550fbfff"
      },
      "source": [
        "df_stock_list = df_stockSymbols\n",
        "\n",
        "df_stock_list = df_stock_list.head(5)\n",
        "df_stock_list"
      ],
      "execution_count": 13,
      "outputs": [
        {
          "output_type": "execute_result",
          "data": {
            "text/plain": [
              "31     JNJ\n",
              "32     LMT\n",
              "40    HMLP\n",
              "60    ATMR\n",
              "64     AES\n",
              "Name: Content, dtype: object"
            ]
          },
          "metadata": {},
          "execution_count": 13
        }
      ]
    },
    {
      "cell_type": "code",
      "metadata": {
        "colab": {
          "base_uri": "https://localhost:8080/"
        },
        "id": "RrskHenUtw2L",
        "outputId": "92d252d9-c7ee-42b9-aa3f-4f0d023b0ff3"
      },
      "source": [
        "#picking up the latest 5 stocks from the entire stock list\n",
        "stocks = df_stock_list.tolist()\n",
        "stocks"
      ],
      "execution_count": 14,
      "outputs": [
        {
          "output_type": "execute_result",
          "data": {
            "text/plain": [
              "['JNJ', 'LMT', 'HMLP', 'ATMR', 'AES']"
            ]
          },
          "metadata": {},
          "execution_count": 14
        }
      ]
    },
    {
      "cell_type": "code",
      "metadata": {
        "colab": {
          "base_uri": "https://localhost:8080/"
        },
        "id": "xmcpCd6Btw2M",
        "outputId": "f2adcb8e-ff4d-4a12-dce2-588caabc108a"
      },
      "source": [
        "for i, item in enumerate(stocks, start=1):\n",
        "    print(i,item)\n",
        "print(\"Please enter the respective number for choosing two stocks from the above list: \")\n",
        "    \n",
        "a,b=map(int,input().split())\n"
      ],
      "execution_count": 15,
      "outputs": [
        {
          "name": "stdout",
          "output_type": "stream",
          "text": [
            "1 JNJ\n",
            "2 LMT\n",
            "3 HMLP\n",
            "4 ATMR\n",
            "5 AES\n",
            "Please enter the respective number for choosing two stocks from the above list: \n",
            "1 2\n"
          ]
        }
      ]
    },
    {
      "cell_type": "code",
      "metadata": {
        "colab": {
          "base_uri": "https://localhost:8080/"
        },
        "id": "gBMg0M3ftw2M",
        "outputId": "8464f859-62c7-4cf4-8563-aafff1f38fde"
      },
      "source": [
        "print (a) \n",
        "print (b) "
      ],
      "execution_count": 16,
      "outputs": [
        {
          "output_type": "stream",
          "name": "stdout",
          "text": [
            "1\n",
            "2\n"
          ]
        }
      ]
    },
    {
      "cell_type": "code",
      "metadata": {
        "id": "6ZFRaOOltw2M"
      },
      "source": [
        "#creating dictionary to map the choice for particular stocks\n",
        "stocks_list = { i : stocks[i-1] for i in range(1, len(stocks)+1 ) }"
      ],
      "execution_count": 17,
      "outputs": []
    },
    {
      "cell_type": "code",
      "metadata": {
        "colab": {
          "base_uri": "https://localhost:8080/"
        },
        "id": "7Matcqg1tw2N",
        "outputId": "d25e5551-b984-4a78-da94-9f70634ed44a"
      },
      "source": [
        "stocks_list"
      ],
      "execution_count": 18,
      "outputs": [
        {
          "output_type": "execute_result",
          "data": {
            "text/plain": [
              "{1: 'JNJ', 2: 'LMT', 3: 'HMLP', 4: 'ATMR', 5: 'AES'}"
            ]
          },
          "metadata": {},
          "execution_count": 18
        }
      ]
    },
    {
      "cell_type": "code",
      "metadata": {
        "colab": {
          "base_uri": "https://localhost:8080/",
          "height": 35
        },
        "id": "4e52vVektw2N",
        "outputId": "14147220-4388-40c3-c6d4-73a18813900b"
      },
      "source": [
        "#printing first stock\n",
        "stock1=stocks_list[a]\n",
        "stock1"
      ],
      "execution_count": 19,
      "outputs": [
        {
          "output_type": "execute_result",
          "data": {
            "application/vnd.google.colaboratory.intrinsic+json": {
              "type": "string"
            },
            "text/plain": [
              "'JNJ'"
            ]
          },
          "metadata": {},
          "execution_count": 19
        }
      ]
    },
    {
      "cell_type": "code",
      "metadata": {
        "colab": {
          "base_uri": "https://localhost:8080/",
          "height": 35
        },
        "id": "tMdSGc8Qtw2N",
        "outputId": "eb41741f-c87d-4b0d-971a-0e014a31af1a"
      },
      "source": [
        "#printing second stock\n",
        "stock2=stocks_list[b]\n",
        "stock2"
      ],
      "execution_count": 20,
      "outputs": [
        {
          "output_type": "execute_result",
          "data": {
            "application/vnd.google.colaboratory.intrinsic+json": {
              "type": "string"
            },
            "text/plain": [
              "'LMT'"
            ]
          },
          "metadata": {},
          "execution_count": 20
        }
      ]
    },
    {
      "cell_type": "code",
      "metadata": {
        "id": "8iPzLjy1tw2O"
      },
      "source": [
        "selected_stock = (stock1,stock2)"
      ],
      "execution_count": 21,
      "outputs": []
    },
    {
      "cell_type": "code",
      "metadata": {
        "colab": {
          "base_uri": "https://localhost:8080/"
        },
        "id": "Zvz57JMjtw2P",
        "outputId": "4eb667be-afce-4796-ebc9-df70b31c6a7e"
      },
      "source": [
        "selected_stock"
      ],
      "execution_count": 22,
      "outputs": [
        {
          "output_type": "execute_result",
          "data": {
            "text/plain": [
              "('JNJ', 'LMT')"
            ]
          },
          "metadata": {},
          "execution_count": 22
        }
      ]
    },
    {
      "cell_type": "markdown",
      "metadata": {
        "id": "fAjI7G8_p8OV"
      },
      "source": [
        "#Yahoo Finance API\n"
      ]
    },
    {
      "cell_type": "code",
      "metadata": {
        "colab": {
          "base_uri": "https://localhost:8080/"
        },
        "id": "_hdVd4LIr1bn",
        "outputId": "ec499fd9-dc87-4ef0-e9aa-d02f1e6b1d37"
      },
      "source": [
        "pip install yahoofinancials"
      ],
      "execution_count": 23,
      "outputs": [
        {
          "output_type": "stream",
          "name": "stdout",
          "text": [
            "Collecting yahoofinancials\n",
            "  Downloading yahoofinancials-1.6.tar.gz (27 kB)\n",
            "Requirement already satisfied: beautifulsoup4 in /usr/local/lib/python3.7/dist-packages (from yahoofinancials) (4.6.3)\n",
            "Requirement already satisfied: pytz in /usr/local/lib/python3.7/dist-packages (from yahoofinancials) (2018.9)\n",
            "Building wheels for collected packages: yahoofinancials\n",
            "  Building wheel for yahoofinancials (setup.py) ... \u001b[?25l\u001b[?25hdone\n",
            "  Created wheel for yahoofinancials: filename=yahoofinancials-1.6-py3-none-any.whl size=15190 sha256=33fe1ea4a9d68ee69553ba0fdba5316f261a48dceee111150ea33c9cde175695\n",
            "  Stored in directory: /root/.cache/pip/wheels/4b/63/46/e7110bfee88685fe69e338d1b14d1748921862aa57b6705b60\n",
            "Successfully built yahoofinancials\n",
            "Installing collected packages: yahoofinancials\n",
            "Successfully installed yahoofinancials-1.6\n"
          ]
        }
      ]
    },
    {
      "cell_type": "code",
      "metadata": {
        "colab": {
          "base_uri": "https://localhost:8080/",
          "height": 486
        },
        "id": "9N9WHKdsrtXy",
        "outputId": "29a1278a-5228-4cd5-ac28-df252e3949f2"
      },
      "source": [
        "pip install yfinance"
      ],
      "execution_count": 24,
      "outputs": [
        {
          "output_type": "stream",
          "name": "stdout",
          "text": [
            "Collecting yfinance\n",
            "  Downloading yfinance-0.1.67-py2.py3-none-any.whl (25 kB)\n",
            "Collecting lxml>=4.5.1\n",
            "  Downloading lxml-4.6.4-cp37-cp37m-manylinux_2_17_x86_64.manylinux2014_x86_64.manylinux_2_24_x86_64.whl (6.3 MB)\n",
            "\u001b[K     |████████████████████████████████| 6.3 MB 6.2 MB/s \n",
            "\u001b[?25hRequirement already satisfied: requests>=2.20 in /usr/local/lib/python3.7/dist-packages (from yfinance) (2.23.0)\n",
            "Requirement already satisfied: pandas>=0.24 in /usr/local/lib/python3.7/dist-packages (from yfinance) (1.1.5)\n",
            "Requirement already satisfied: numpy>=1.15 in /usr/local/lib/python3.7/dist-packages (from yfinance) (1.19.5)\n",
            "Requirement already satisfied: multitasking>=0.0.7 in /usr/local/lib/python3.7/dist-packages (from yfinance) (0.0.10)\n",
            "Requirement already satisfied: pytz>=2017.2 in /usr/local/lib/python3.7/dist-packages (from pandas>=0.24->yfinance) (2018.9)\n",
            "Requirement already satisfied: python-dateutil>=2.7.3 in /usr/local/lib/python3.7/dist-packages (from pandas>=0.24->yfinance) (2.8.2)\n",
            "Requirement already satisfied: six>=1.5 in /usr/local/lib/python3.7/dist-packages (from python-dateutil>=2.7.3->pandas>=0.24->yfinance) (1.15.0)\n",
            "Requirement already satisfied: certifi>=2017.4.17 in /usr/local/lib/python3.7/dist-packages (from requests>=2.20->yfinance) (2021.10.8)\n",
            "Requirement already satisfied: idna<3,>=2.5 in /usr/local/lib/python3.7/dist-packages (from requests>=2.20->yfinance) (2.10)\n",
            "Requirement already satisfied: urllib3!=1.25.0,!=1.25.1,<1.26,>=1.21.1 in /usr/local/lib/python3.7/dist-packages (from requests>=2.20->yfinance) (1.24.3)\n",
            "Requirement already satisfied: chardet<4,>=3.0.2 in /usr/local/lib/python3.7/dist-packages (from requests>=2.20->yfinance) (3.0.4)\n",
            "Installing collected packages: lxml, yfinance\n",
            "  Attempting uninstall: lxml\n",
            "    Found existing installation: lxml 4.2.6\n",
            "    Uninstalling lxml-4.2.6:\n",
            "      Successfully uninstalled lxml-4.2.6\n",
            "Successfully installed lxml-4.6.4 yfinance-0.1.67\n"
          ]
        },
        {
          "output_type": "display_data",
          "data": {
            "application/vnd.colab-display-data+json": {
              "pip_warning": {
                "packages": [
                  "lxml"
                ]
              }
            }
          },
          "metadata": {}
        }
      ]
    },
    {
      "cell_type": "code",
      "metadata": {
        "id": "qflTI4gFqDmy"
      },
      "source": [
        "import pandas as pd\n",
        "import yfinance as yf\n",
        "from yahoofinancials import YahooFinancials"
      ],
      "execution_count": 25,
      "outputs": []
    },
    {
      "cell_type": "code",
      "metadata": {
        "id": "CG_jLwHqrqcJ"
      },
      "source": [
        "#Get stock details for the 2 symbols for specific period\n",
        "stock_df = yf.download(selected_stock, \n",
        "                      start=strStartDate, \n",
        "                      end=strEndDate, \n",
        "                      progress=False,\n",
        ")\n",
        "stock_df.head()"
      ],
      "execution_count": null,
      "outputs": []
    },
    {
      "cell_type": "markdown",
      "metadata": {
        "id": "JcMwgErJfzxV"
      },
      "source": [
        "**Stock price comparison**"
      ]
    },
    {
      "cell_type": "code",
      "metadata": {
        "id": "53mOLbxxsG-S"
      },
      "source": [
        "df = stock_df['Close']\n",
        "ax = df.plot(title='Stock Price', fontsize=12, figsize=(20, 10))\n",
        "ax.set_xlabel(\"Date\")\n",
        "ax.set_ylabel(\"Closing Price\")\n",
        "\n",
        "plt.legend(loc='upper left', fontsize=12)\n",
        "plt.grid(True)\n",
        "plt.show()"
      ],
      "execution_count": null,
      "outputs": []
    },
    {
      "cell_type": "markdown",
      "metadata": {
        "id": "QiDWWsJ9xDHw"
      },
      "source": [
        "**Stock's Volume Comparison**"
      ]
    },
    {
      "cell_type": "code",
      "metadata": {
        "id": "t8K8ZSdCsMA2"
      },
      "source": [
        "df = stock_df['Volume']\n",
        "axis = df.plot(title='Stock Volume', fontsize=12, figsize=(20, 10))\n",
        "axis.set_xlabel(\"Date\")\n",
        "axis.set_ylabel(\"Volume\")\n",
        "\n",
        "# to remove scientific notation from matplotlib\n",
        "plt.gcf().axes[0].yaxis.get_major_formatter().set_scientific(False)\n",
        "\n",
        "plt.legend(loc='upper left', fontsize=12)\n",
        "plt.grid(True)\n",
        "plt.show()"
      ],
      "execution_count": null,
      "outputs": []
    },
    {
      "cell_type": "code",
      "metadata": {
        "id": "vNK4io2Dsc9F"
      },
      "source": [
        "yahoo_financials = YahooFinancials(selected_stock[0])\n",
        "data = yahoo_financials.get_historical_price_data(start_date=strStartDate, \n",
        "                                                  end_date=strEndDate, \n",
        "                                                  time_interval='daily')\n",
        "stock1_df = pd.DataFrame(data[selected_stock[0]]['prices'])\n",
        "stock1_df = stock1_df.drop('date', axis=1).set_index('formatted_date')"
      ],
      "execution_count": null,
      "outputs": []
    },
    {
      "cell_type": "code",
      "metadata": {
        "id": "_HLNEVuZsouT"
      },
      "source": [
        "yahoo_financials = YahooFinancials(selected_stock[1])\n",
        "data=yahoo_financials.get_historical_price_data(strStartDate, strEndDate, \"daily\")\n",
        "stock2_df = pd.DataFrame(data[selected_stock[1]]['prices'])\n",
        "stock2_df = stock2_df.drop('date', axis=1).set_index('formatted_date')\n",
        "stock2_df.head()"
      ],
      "execution_count": null,
      "outputs": []
    },
    {
      "cell_type": "code",
      "metadata": {
        "id": "3dLAcP-sWI8q"
      },
      "source": [
        "import numpy as np\n",
        "from keras.models import Sequential\n",
        "from keras.layers import Dense, LSTM\n",
        "import math\n",
        "from sklearn.preprocessing import MinMaxScaler\n",
        "from sklearn.model_selection import train_test_split"
      ],
      "execution_count": 77,
      "outputs": []
    },
    {
      "cell_type": "markdown",
      "metadata": {
        "id": "EdzIAdTs6bh5"
      },
      "source": [
        "Creating a new Dataframe and Training data"
      ]
    },
    {
      "cell_type": "code",
      "metadata": {
        "id": "Ilq-1X1ZbgSF"
      },
      "source": [
        "# Get Data for 5 yrs for 1st Stock\n",
        "yahoo_financials = YahooFinancials(selected_stock[0])\n",
        "data = yahoo_financials.get_historical_price_data(start_date='2017-12-4', \n",
        "                                                  end_date=strEndDate, \n",
        "                                                  time_interval='daily')\n",
        "stockPredict_df = pd.DataFrame(data[selected_stock[0]]['prices'])\n",
        "stockPredict_df = stockPredict_df.drop('date', axis=1).set_index('formatted_date')"
      ],
      "execution_count": 126,
      "outputs": []
    },
    {
      "cell_type": "code",
      "metadata": {
        "id": "-XzfnQU5WdOb"
      },
      "source": [
        "# 1. Filter out the closing market price data\n",
        "close_data = stockPredict_df.filter(['close'])\n",
        "\n",
        "# 2. Convert the data into array for easy evaluation\n",
        "dataset = close_data.values\n",
        " \n",
        "# 3. Scale/Normalize the data to make all values between 0 and 1\n",
        "scaler = MinMaxScaler(feature_range=(0, 1))\n",
        "scaled_data = scaler.fit_transform(dataset)\n",
        " \n",
        "# 4. Creating training data size : 70% of the data\n",
        "training_data_len = math.ceil(len(dataset) *.7)\n",
        "train_data = scaled_data[0:training_data_len  , : ]\n",
        "\n",
        "# 5. Separating the data into x and y data\n",
        "x_train_data=[]\n",
        "y_train_data =[]\n",
        "for i in range(60,len(train_data)):\n",
        "    x_train_data=list(x_train_data)\n",
        "    y_train_data=list(y_train_data)\n",
        "    x_train_data.append(train_data[i-60:i,0])\n",
        "    y_train_data.append(train_data[i,0])\n",
        " \n",
        "    # 6. Converting the training x and y values to numpy arrays\n",
        "    x_train_data1, y_train_data1 = np.array(x_train_data), np.array(y_train_data)\n",
        " \n",
        "    # 7. Reshaping training x and y data to make the calculations easier\n",
        "    x_train_data2 = np.reshape(x_train_data1, (x_train_data1.shape[0],x_train_data1.shape[1],1))"
      ],
      "execution_count": 149,
      "outputs": []
    },
    {
      "cell_type": "markdown",
      "metadata": {
        "id": "3c3LbbG36S8X"
      },
      "source": [
        "Building LSTM Mode"
      ]
    },
    {
      "cell_type": "code",
      "metadata": {
        "id": "hSnNdZ8TZTbo"
      },
      "source": [
        "model = Sequential()\n",
        "model.add(LSTM(units=50, return_sequences=True,input_shape=(x_train_data2.shape[1],1)))\n",
        "model.add(LSTM(units=50, return_sequences=False))\n",
        "model.add(Dense(units=25))\n",
        "model.add(Dense(units=1))"
      ],
      "execution_count": 143,
      "outputs": []
    },
    {
      "cell_type": "markdown",
      "metadata": {
        "id": "5MVU9gya6V1Z"
      },
      "source": [
        "Compiling the Model"
      ]
    },
    {
      "cell_type": "code",
      "metadata": {
        "id": "2pe6gvoc6P8Q"
      },
      "source": [
        "model.compile(optimizer='adam', loss='mean_squared_error')\n",
        "model.fit(x_train_data2, y_train_data1, batch_size=1, epochs=1)"
      ],
      "execution_count": null,
      "outputs": []
    },
    {
      "cell_type": "markdown",
      "metadata": {
        "id": "XE6uGAH46jBm"
      },
      "source": [
        "Testing the model on testing data"
      ]
    },
    {
      "cell_type": "code",
      "metadata": {
        "id": "YnxwTNol6jp0"
      },
      "source": [
        "# Creating a dataset for testing\n",
        "test_data = scaled_data[training_data_len - 60: , : ]\n",
        "x_test = []\n",
        "y_test = dataset[training_data_len : , : ]\n",
        "for i in range(60,len(test_data)):\n",
        "    x_test.append(test_data[i-60:i,0])\n",
        " \n",
        "# 2.  Convert the values into arrays for easier computation\n",
        "x_test = np.array(x_test)\n",
        "x_test = np.reshape(x_test, (x_test.shape[0],x_test.shape[1],1))\n",
        " \n",
        "# 3. Making predictions on the testing data\n",
        "predictions = model.predict(x_test)\n",
        "#predictions = scaler.inverse_transform(predictions)\n"
      ],
      "execution_count": 145,
      "outputs": []
    },
    {
      "cell_type": "markdown",
      "metadata": {
        "id": "R67TYPz860Pr"
      },
      "source": [
        "Error Calculation"
      ]
    },
    {
      "cell_type": "code",
      "metadata": {
        "colab": {
          "base_uri": "https://localhost:8080/"
        },
        "id": "pefqFDMA6zxa",
        "outputId": "424c6315-09bb-468c-c541-74d26b5a3c78"
      },
      "source": [
        "rmse=np.sqrt(np.mean(((predictions- y_test)**2)))\n",
        "print(rmse)"
      ],
      "execution_count": 146,
      "outputs": [
        {
          "output_type": "stream",
          "name": "stdout",
          "text": [
            "160.7602695620177\n"
          ]
        }
      ]
    },
    {
      "cell_type": "markdown",
      "metadata": {
        "id": "tnvv8ebN6-68"
      },
      "source": [
        "Make Predictions"
      ]
    },
    {
      "cell_type": "code",
      "metadata": {
        "colab": {
          "base_uri": "https://localhost:8080/",
          "height": 295
        },
        "id": "Gvz8HcTu7D3V",
        "outputId": "81cd8c01-c3d9-4dec-c5f3-ddc12ea5423d"
      },
      "source": [
        "#train = pd.DataFrame(scaled_data[:training_data_len], columns=['close'])\n",
        "valid = scaled_data[training_data_len:]\n",
        "\n",
        "predictDF = pd.DataFrame(valid, columns=['close'])\n",
        "predictDF['Predictions'] = predictions\n",
        "\n",
        "title = 'Stock Predictions for ' + selected_stock[0]\n",
        "plt.title(title)\n",
        "plt.xlabel('Date')\n",
        "plt.ylabel('Close')\n",
        " \n",
        "plt.plot(predictDF['close'])\n",
        "#plt.plot(predictDF[['close', 'Predictions']])\n",
        "plt.plot(predictDF[['Predictions']])\n",
        " \n",
        "plt.legend(['Actual', 'Predictions'], loc='lower right')\n",
        " \n",
        "plt.show()"
      ],
      "execution_count": 156,
      "outputs": [
        {
          "output_type": "display_data",
          "data": {
            "image/png": "[encoded data removed]",
            "text/plain": [
              "<Figure size 432x288 with 1 Axes>"
            ]
          },
          "metadata": {
            "needs_background": "light"
          }
        }
      ]
    },
    {
      "cell_type": "code",
      "metadata": {
        "id": "NDxeaHYUYkGN"
      },
      "source": [
        ""
      ],
      "execution_count": null,
      "outputs": []
    }
  ]
}