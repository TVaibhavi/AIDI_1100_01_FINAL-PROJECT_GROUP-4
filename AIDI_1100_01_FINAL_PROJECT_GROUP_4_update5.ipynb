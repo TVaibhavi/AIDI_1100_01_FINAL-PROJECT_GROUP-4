{
  "nbformat": 4,
  "nbformat_minor": 0,
  "metadata": {
    "colab": {
      "name": "AIDI_1100_01_FINAL_PROJECT_GROUP_4_update5.ipynb",
      "provenance": [],
      "collapsed_sections": []
    },
    "kernelspec": {
      "display_name": "Python 3",
      "language": "python",
      "name": "python3"
    },
    "language_info": {
      "codemirror_mode": {
        "name": "ipython",
        "version": 3
      },
      "file_extension": ".py",
      "mimetype": "text/x-python",
      "name": "python",
      "nbconvert_exporter": "python",
      "pygments_lexer": "ipython3",
      "version": "3.8.3"
    }
  },
  "cells": [
    {
      "cell_type": "code",
      "metadata": {
        "id": "NhsP2fCmErLx"
      },
      "source": [
        "import requests\n",
        "from bs4 import BeautifulSoup\n",
        "import datetime\n",
        "import csv\n",
        "import pandas as pd\n",
        "import re\n",
        "import matplotlib.pyplot as plt"
      ],
      "execution_count": 1,
      "outputs": []
    },
    {
      "cell_type": "code",
      "metadata": {
        "id": "X94SpdEOEg95"
      },
      "source": [
        "# Constants\n",
        "News_URL = \"https://www.prnewswire.com/news-releases/news-releases-list/?\"\n",
        "#News_URL = \"https://www.prnewswire.com/news-releases/news-releases-list/?month=11&day=24&year=2021&hour=00&page=1&pagesize=100\"\n",
        "\n",
        "Total_Days = 7 #Number of days to fetch\n",
        "StockSymbol_Required = 2"
      ],
      "execution_count": 2,
      "outputs": []
    },
    {
      "cell_type": "code",
      "metadata": {
        "id": "SoIkEyt4ExMJ"
      },
      "source": [
        "# Global Variables\n",
        "arr_Date = []\n",
        "arr_newsTitle = []\n",
        "arr_newsPara = []\n",
        "arr_newsUrl = []"
      ],
      "execution_count": 3,
      "outputs": []
    },
    {
      "cell_type": "code",
      "metadata": {
        "id": "xYFhYfCbE6Qg"
      },
      "source": [
        "# Date for extracting webpage\n",
        "currentDate = datetime.datetime.now()\n",
        "tempDate = currentDate"
      ],
      "execution_count": 4,
      "outputs": []
    },
    {
      "cell_type": "code",
      "metadata": {
        "id": "yPaKom5Ou9M6"
      },
      "source": [
        "def prepare_URL(dayToFetch) -> str:\n",
        "   urlByDay = News_URL + 'month=' + str(currentDate.month) + '&day=' + str(dayToFetch) + '&year=' + str(currentDate.year) + '&hour=00&page=1&pagesize=100'\n",
        "   return urlByDay"
      ],
      "execution_count": 5,
      "outputs": []
    },
    {
      "cell_type": "code",
      "metadata": {
        "id": "tzMGO92NIakg"
      },
      "source": [
        "def parse_News(forDay):\n",
        "  url = prepare_URL(forDay)\n",
        "  page = requests.get(url)\n",
        "  soup = BeautifulSoup(page.content, \"html.parser\")\n",
        "\n",
        "  # to extract main layout content\n",
        "  main = soup.find_all('main',class_='headline-listing')\n",
        "\n",
        "  for elements in main:\n",
        "    lstContainer = elements.find_all('section',class_='container')\n",
        "    for mainHead in lstContainer:\n",
        "      row = mainHead.find_all('div',class_='row')\n",
        "      for mainCol in row:\n",
        "        rowList = mainCol.find_all('div',class_='col-md-8 col-sm-8 card-list card-list-hr')\n",
        "        for newsCard in rowList:\n",
        "          newsLst = newsCard.find_all('a',class_='newsreleaseconsolidatelink')\n",
        "          for content in newsLst:\n",
        "            href = content.get('href')\n",
        "            small = content.h3.small.text\n",
        "            content.h3.small.decompose()\n",
        "            h3 = content.h3.text.replace(\"\\n\", \"\")\n",
        "            p =  content.p.text\n",
        "            arr_Date.append(small)\n",
        "            arr_newsTitle.append(h3)\n",
        "            arr_newsPara.append(p)\n",
        "            arr_newsUrl.append(href)"
      ],
      "execution_count": 6,
      "outputs": []
    },
    {
      "cell_type": "code",
      "metadata": {
        "id": "P65CV6KnOCIe"
      },
      "source": [
        "#Fetch & Parse data of last week\n",
        "i = 0\n",
        "while i < Total_Days:\n",
        "  parse_News(currentDate.day - i)\n",
        "  i = i + 1"
      ],
      "execution_count": 7,
      "outputs": []
    },
    {
      "cell_type": "code",
      "metadata": {
        "colab": {
          "base_uri": "https://localhost:8080/",
          "height": 206
        },
        "id": "5pURL0S_bEMe",
        "outputId": "3daf462a-09aa-4a39-f673-b66706bc103e"
      },
      "source": [
        "# Write data to csv\n",
        "dictNews = {'Date': arr_Date, 'Title': arr_newsTitle, 'Content': arr_newsPara, 'Url': arr_newsUrl}\n",
        "df = pd.DataFrame(dictNews)\n",
        "df.to_csv('newsData.csv')\n",
        "\n",
        "df.head()"
      ],
      "execution_count": 8,
      "outputs": [
        {
          "output_type": "execute_result",
          "data": {
            "text/html": [
              "<div>\n",
              "<style scoped>\n",
              "    .dataframe tbody tr th:only-of-type {\n",
              "        vertical-align: middle;\n",
              "    }\n",
              "\n",
              "    .dataframe tbody tr th {\n",
              "        vertical-align: top;\n",
              "    }\n",
              "\n",
              "    .dataframe thead th {\n",
              "        text-align: right;\n",
              "    }\n",
              "</style>\n",
              "<table border=\"1\" class=\"dataframe\">\n",
              "  <thead>\n",
              "    <tr style=\"text-align: right;\">\n",
              "      <th></th>\n",
              "      <th>Date</th>\n",
              "      <th>Title</th>\n",
              "      <th>Content</th>\n",
              "      <th>Url</th>\n",
              "    </tr>\n",
              "  </thead>\n",
              "  <tbody>\n",
              "    <tr>\n",
              "      <th>0</th>\n",
              "      <td>Dec 02, 2021, 23:59 ET</td>\n",
              "      <td>El Banco de Londres se lanza hoy como el prime...</td>\n",
              "      <td>El Banco de Londres se lanza hoy como el 6.o b...</td>\n",
              "      <td>/news-releases/el-banco-de-londres-se-lanza-ho...</td>\n",
              "    </tr>\n",
              "    <tr>\n",
              "      <th>1</th>\n",
              "      <td>Dec 02, 2021, 23:56 ET</td>\n",
              "      <td>SHAREHOLDER ALERT: Pomerantz Law Firm Investig...</td>\n",
              "      <td>Pomerantz LLP is investigating claims on behal...</td>\n",
              "      <td>/news-releases/shareholder-alert-pomerantz-law...</td>\n",
              "    </tr>\n",
              "    <tr>\n",
              "      <th>2</th>\n",
              "      <td>Dec 02, 2021, 23:55 ET</td>\n",
              "      <td>SHAREHOLDER ALERT: Pomerantz Law Firm Investig...</td>\n",
              "      <td>Pomerantz LLP is investigating claims on behal...</td>\n",
              "      <td>/news-releases/shareholder-alert-pomerantz-law...</td>\n",
              "    </tr>\n",
              "    <tr>\n",
              "      <th>3</th>\n",
              "      <td>Dec 02, 2021, 23:54 ET</td>\n",
              "      <td>SHAREHOLDER ALERT: Pomerantz Law Firm Investig...</td>\n",
              "      <td>Pomerantz LLP is investigating claims on behal...</td>\n",
              "      <td>/news-releases/shareholder-alert-pomerantz-law...</td>\n",
              "    </tr>\n",
              "    <tr>\n",
              "      <th>4</th>\n",
              "      <td>Dec 02, 2021, 23:53 ET</td>\n",
              "      <td>SHAREHOLDER ALERT: Pomerantz Law Firm Investig...</td>\n",
              "      <td>Pomerantz LLP is investigating claims on behal...</td>\n",
              "      <td>/news-releases/shareholder-alert-pomerantz-law...</td>\n",
              "    </tr>\n",
              "  </tbody>\n",
              "</table>\n",
              "</div>"
            ],
            "text/plain": [
              "                     Date  ...                                                Url\n",
              "0  Dec 02, 2021, 23:59 ET  ...  /news-releases/el-banco-de-londres-se-lanza-ho...\n",
              "1  Dec 02, 2021, 23:56 ET  ...  /news-releases/shareholder-alert-pomerantz-law...\n",
              "2  Dec 02, 2021, 23:55 ET  ...  /news-releases/shareholder-alert-pomerantz-law...\n",
              "3  Dec 02, 2021, 23:54 ET  ...  /news-releases/shareholder-alert-pomerantz-law...\n",
              "4  Dec 02, 2021, 23:53 ET  ...  /news-releases/shareholder-alert-pomerantz-law...\n",
              "\n",
              "[5 rows x 4 columns]"
            ]
          },
          "metadata": {},
          "execution_count": 8
        }
      ]
    },
    {
      "cell_type": "code",
      "metadata": {
        "colab": {
          "base_uri": "https://localhost:8080/"
        },
        "id": "KQg2gxYatw2J",
        "outputId": "873bd9d3-181f-4e78-a383-e6770734bc9d"
      },
      "source": [
        "#given a list of  few popular stock exchanges, user inputs one specific industry.\n",
        "print(\" 1.NYSE (New York Stock Exchange) \\n 2.TSX (Toronto Stock Exchange) \\n 3.NASDAQ ( National Association of Securities Dealers Automated Quotation)  \")\n",
        "choice = int(input(\"Please enter the respective number for choosing  a specific stock exchange from the above list: \"))\n",
        "\n"
      ],
      "execution_count": 9,
      "outputs": [
        {
          "name": "stdout",
          "output_type": "stream",
          "text": [
            " 1.NYSE (New York Stock Exchange) \n",
            " 2.TSX (Toronto Stock Exchange) \n",
            " 3.NASDAQ ( National Association of Securities Dealers Automated Quotation)  \n",
            "Please enter the respective number for choosing  a specific stock exchange from the above list: 1\n"
          ]
        }
      ]
    },
    {
      "cell_type": "code",
      "metadata": {
        "id": "v0aGcR-8tw2K"
      },
      "source": [
        "#searching the stock exchanges from the news dataframe \n",
        "stock_ex = { 1 : 'NYSE', 2:'TSX',3:'NASDAQ'}"
      ],
      "execution_count": 10,
      "outputs": []
    },
    {
      "cell_type": "code",
      "metadata": {
        "colab": {
          "base_uri": "https://localhost:8080/"
        },
        "id": "nxJXIrKPtw2K",
        "outputId": "91316599-7495-42fc-e800-9b9b5f60d493"
      },
      "source": [
        "StockIndustry_Search = stock_ex[choice]\n",
        "print(StockIndustry_Search)"
      ],
      "execution_count": 11,
      "outputs": [
        {
          "output_type": "stream",
          "name": "stdout",
          "text": [
            "NYSE\n"
          ]
        }
      ]
    },
    {
      "cell_type": "code",
      "metadata": {
        "id": "K2h3XKOdXAtQ"
      },
      "source": [
        "#Search stock symbols of given industry\n",
        "\n",
        "searchString = StockIndustry_Search + ': ([a-zA-Z]+)'\n",
        "df_stockSymbols = df['Content'].str.extract(searchString, expand=False)\n",
        "\n",
        "# Dropping the duplicates \n",
        "df_stockSymbols = df_stockSymbols.drop_duplicates()\n",
        "\n",
        "# Dropping the missing values.\n",
        "df_stockSymbols = df_stockSymbols.dropna() "
      ],
      "execution_count": 12,
      "outputs": []
    },
    {
      "cell_type": "code",
      "metadata": {
        "colab": {
          "base_uri": "https://localhost:8080/"
        },
        "id": "6vnrDiQFXalR",
        "outputId": "e2baf0fd-5d26-4dce-a62f-c135256eeed5"
      },
      "source": [
        "df_stock_list = df_stockSymbols\n",
        "\n",
        "df_stock_list = df_stock_list.head(5)\n",
        "df_stock_list"
      ],
      "execution_count": 13,
      "outputs": [
        {
          "output_type": "execute_result",
          "data": {
            "text/plain": [
              "2      ZME\n",
              "3     GOTU\n",
              "4     SNAP\n",
              "6      DNA\n",
              "21     CEI\n",
              "Name: Content, dtype: object"
            ]
          },
          "metadata": {},
          "execution_count": 13
        }
      ]
    },
    {
      "cell_type": "code",
      "metadata": {
        "colab": {
          "base_uri": "https://localhost:8080/"
        },
        "id": "RrskHenUtw2L",
        "outputId": "514a4770-ebdc-4887-a8e1-94a43fd00587"
      },
      "source": [
        "#picking up the latest 5 stocks from the entire stock list\n",
        "stocks = df_stock_list.tolist()\n",
        "stocks"
      ],
      "execution_count": 14,
      "outputs": [
        {
          "output_type": "execute_result",
          "data": {
            "text/plain": [
              "['ZME', 'GOTU', 'SNAP', 'DNA', 'CEI']"
            ]
          },
          "metadata": {},
          "execution_count": 14
        }
      ]
    },
    {
      "cell_type": "code",
      "metadata": {
        "colab": {
          "base_uri": "https://localhost:8080/"
        },
        "id": "xmcpCd6Btw2M",
        "outputId": "ed94c5e6-9a94-4917-dacd-29d2673f4b1b"
      },
      "source": [
        "for i, item in enumerate(stocks, start=1):\n",
        "    print(i,item)\n",
        "print(\"Please enter the respective number for choosing two stocks from the above list: \")\n",
        "    \n",
        "a,b=map(int,input().split())\n"
      ],
      "execution_count": 15,
      "outputs": [
        {
          "name": "stdout",
          "output_type": "stream",
          "text": [
            "1 ZME\n",
            "2 GOTU\n",
            "3 SNAP\n",
            "4 DNA\n",
            "5 CEI\n",
            "Please enter the respective number for choosing two stocks from the above list: \n",
            "1 2\n"
          ]
        }
      ]
    },
    {
      "cell_type": "code",
      "metadata": {
        "colab": {
          "base_uri": "https://localhost:8080/"
        },
        "id": "gBMg0M3ftw2M",
        "outputId": "80976430-2102-43ee-96af-4de9cb02364e"
      },
      "source": [
        "print (a) \n",
        "print (b) "
      ],
      "execution_count": 16,
      "outputs": [
        {
          "output_type": "stream",
          "name": "stdout",
          "text": [
            "1\n",
            "2\n"
          ]
        }
      ]
    },
    {
      "cell_type": "code",
      "metadata": {
        "id": "6ZFRaOOltw2M"
      },
      "source": [
        "#creating dictionary to map the choice for particular stocks\n",
        "stocks_list = { i : stocks[i-1] for i in range(1, len(stocks)+1 ) }"
      ],
      "execution_count": 17,
      "outputs": []
    },
    {
      "cell_type": "code",
      "metadata": {
        "colab": {
          "base_uri": "https://localhost:8080/"
        },
        "id": "7Matcqg1tw2N",
        "outputId": "7ec2c052-7339-4ab9-b029-60e244cdbd8a"
      },
      "source": [
        "stocks_list"
      ],
      "execution_count": 18,
      "outputs": [
        {
          "output_type": "execute_result",
          "data": {
            "text/plain": [
              "{1: 'ZME', 2: 'GOTU', 3: 'SNAP', 4: 'DNA', 5: 'CEI'}"
            ]
          },
          "metadata": {},
          "execution_count": 18
        }
      ]
    },
    {
      "cell_type": "code",
      "metadata": {
        "colab": {
          "base_uri": "https://localhost:8080/",
          "height": 35
        },
        "id": "4e52vVektw2N",
        "outputId": "e9319656-2770-4703-860c-4db4e5beec71"
      },
      "source": [
        "#printing first stock\n",
        "stock1=stocks_list[a]\n",
        "stock1"
      ],
      "execution_count": 19,
      "outputs": [
        {
          "output_type": "execute_result",
          "data": {
            "application/vnd.google.colaboratory.intrinsic+json": {
              "type": "string"
            },
            "text/plain": [
              "'ZME'"
            ]
          },
          "metadata": {},
          "execution_count": 19
        }
      ]
    },
    {
      "cell_type": "code",
      "metadata": {
        "colab": {
          "base_uri": "https://localhost:8080/",
          "height": 35
        },
        "id": "tMdSGc8Qtw2N",
        "outputId": "b882ae76-03c9-45f5-d0d3-180bf4407b09"
      },
      "source": [
        "#printing second stock\n",
        "stock2=stocks_list[b]\n",
        "stock2"
      ],
      "execution_count": 20,
      "outputs": [
        {
          "output_type": "execute_result",
          "data": {
            "application/vnd.google.colaboratory.intrinsic+json": {
              "type": "string"
            },
            "text/plain": [
              "'GOTU'"
            ]
          },
          "metadata": {},
          "execution_count": 20
        }
      ]
    },
    {
      "cell_type": "code",
      "metadata": {
        "id": "8iPzLjy1tw2O"
      },
      "source": [
        "selected_stock = (stock1,stock2)"
      ],
      "execution_count": 21,
      "outputs": []
    },
    {
      "cell_type": "code",
      "metadata": {
        "colab": {
          "base_uri": "https://localhost:8080/"
        },
        "id": "Zvz57JMjtw2P",
        "outputId": "f56d5be1-a590-4f1e-e1d3-456e8641fed3"
      },
      "source": [
        "selected_stock"
      ],
      "execution_count": 22,
      "outputs": [
        {
          "output_type": "execute_result",
          "data": {
            "text/plain": [
              "('ZME', 'GOTU')"
            ]
          },
          "metadata": {},
          "execution_count": 22
        }
      ]
    },
    {
      "cell_type": "markdown",
      "metadata": {
        "id": "fAjI7G8_p8OV"
      },
      "source": [
        "#Yahoo Finance API\n"
      ]
    },
    {
      "cell_type": "code",
      "metadata": {
        "colab": {
          "base_uri": "https://localhost:8080/"
        },
        "id": "_hdVd4LIr1bn",
        "outputId": "054ddd1b-077a-4781-e705-330358a804d2"
      },
      "source": [
        "pip install yahoofinancials"
      ],
      "execution_count": 23,
      "outputs": [
        {
          "output_type": "stream",
          "name": "stdout",
          "text": [
            "Requirement already satisfied: yahoofinancials in /usr/local/lib/python3.7/dist-packages (1.6)\n",
            "Requirement already satisfied: beautifulsoup4 in /usr/local/lib/python3.7/dist-packages (from yahoofinancials) (4.6.3)\n",
            "Requirement already satisfied: pytz in /usr/local/lib/python3.7/dist-packages (from yahoofinancials) (2018.9)\n"
          ]
        }
      ]
    },
    {
      "cell_type": "code",
      "metadata": {
        "colab": {
          "base_uri": "https://localhost:8080/"
        },
        "id": "9N9WHKdsrtXy",
        "outputId": "bf4a0ad5-f27d-4757-d53b-0ec3001f46b7"
      },
      "source": [
        "pip install yfinance"
      ],
      "execution_count": 24,
      "outputs": [
        {
          "output_type": "stream",
          "name": "stdout",
          "text": [
            "Requirement already satisfied: yfinance in /usr/local/lib/python3.7/dist-packages (0.1.67)\n",
            "Requirement already satisfied: multitasking>=0.0.7 in /usr/local/lib/python3.7/dist-packages (from yfinance) (0.0.10)\n",
            "Requirement already satisfied: numpy>=1.15 in /usr/local/lib/python3.7/dist-packages (from yfinance) (1.19.5)\n",
            "Requirement already satisfied: pandas>=0.24 in /usr/local/lib/python3.7/dist-packages (from yfinance) (1.1.5)\n",
            "Requirement already satisfied: lxml>=4.5.1 in /usr/local/lib/python3.7/dist-packages (from yfinance) (4.6.4)\n",
            "Requirement already satisfied: requests>=2.20 in /usr/local/lib/python3.7/dist-packages (from yfinance) (2.23.0)\n",
            "Requirement already satisfied: pytz>=2017.2 in /usr/local/lib/python3.7/dist-packages (from pandas>=0.24->yfinance) (2018.9)\n",
            "Requirement already satisfied: python-dateutil>=2.7.3 in /usr/local/lib/python3.7/dist-packages (from pandas>=0.24->yfinance) (2.8.2)\n",
            "Requirement already satisfied: six>=1.5 in /usr/local/lib/python3.7/dist-packages (from python-dateutil>=2.7.3->pandas>=0.24->yfinance) (1.15.0)\n",
            "Requirement already satisfied: chardet<4,>=3.0.2 in /usr/local/lib/python3.7/dist-packages (from requests>=2.20->yfinance) (3.0.4)\n",
            "Requirement already satisfied: urllib3!=1.25.0,!=1.25.1,<1.26,>=1.21.1 in /usr/local/lib/python3.7/dist-packages (from requests>=2.20->yfinance) (1.24.3)\n",
            "Requirement already satisfied: idna<3,>=2.5 in /usr/local/lib/python3.7/dist-packages (from requests>=2.20->yfinance) (2.10)\n",
            "Requirement already satisfied: certifi>=2017.4.17 in /usr/local/lib/python3.7/dist-packages (from requests>=2.20->yfinance) (2021.10.8)\n"
          ]
        }
      ]
    },
    {
      "cell_type": "code",
      "metadata": {
        "id": "qflTI4gFqDmy"
      },
      "source": [
        "import pandas as pd\n",
        "import yfinance as yf\n",
        "from yahoofinancials import YahooFinancials"
      ],
      "execution_count": 25,
      "outputs": []
    },
    {
      "cell_type": "code",
      "metadata": {
        "colab": {
          "base_uri": "https://localhost:8080/",
          "height": 269
        },
        "id": "CG_jLwHqrqcJ",
        "outputId": "0bbaa9be-0649-4f79-ff3b-fbed0a7fcc55"
      },
      "source": [
        "#Get stock details for the 2 symbols for specific period\n",
        "stock_df = yf.download(selected_stock, \n",
        "                      start='2021-09-01', \n",
        "                      end='2021-11-30', \n",
        "                      progress=False,\n",
        ")\n",
        "stock_df.head()"
      ],
      "execution_count": 26,
      "outputs": [
        {
          "output_type": "execute_result",
          "data": {
            "text/html": [
              "<div>\n",
              "<style scoped>\n",
              "    .dataframe tbody tr th:only-of-type {\n",
              "        vertical-align: middle;\n",
              "    }\n",
              "\n",
              "    .dataframe tbody tr th {\n",
              "        vertical-align: top;\n",
              "    }\n",
              "\n",
              "    .dataframe thead tr th {\n",
              "        text-align: left;\n",
              "    }\n",
              "\n",
              "    .dataframe thead tr:last-of-type th {\n",
              "        text-align: right;\n",
              "    }\n",
              "</style>\n",
              "<table border=\"1\" class=\"dataframe\">\n",
              "  <thead>\n",
              "    <tr>\n",
              "      <th></th>\n",
              "      <th colspan=\"2\" halign=\"left\">Adj Close</th>\n",
              "      <th colspan=\"2\" halign=\"left\">Close</th>\n",
              "      <th colspan=\"2\" halign=\"left\">High</th>\n",
              "      <th colspan=\"2\" halign=\"left\">Low</th>\n",
              "      <th colspan=\"2\" halign=\"left\">Open</th>\n",
              "      <th colspan=\"2\" halign=\"left\">Volume</th>\n",
              "    </tr>\n",
              "    <tr>\n",
              "      <th></th>\n",
              "      <th>GOTU</th>\n",
              "      <th>ZME</th>\n",
              "      <th>GOTU</th>\n",
              "      <th>ZME</th>\n",
              "      <th>GOTU</th>\n",
              "      <th>ZME</th>\n",
              "      <th>GOTU</th>\n",
              "      <th>ZME</th>\n",
              "      <th>GOTU</th>\n",
              "      <th>ZME</th>\n",
              "      <th>GOTU</th>\n",
              "      <th>ZME</th>\n",
              "    </tr>\n",
              "    <tr>\n",
              "      <th>Date</th>\n",
              "      <th></th>\n",
              "      <th></th>\n",
              "      <th></th>\n",
              "      <th></th>\n",
              "      <th></th>\n",
              "      <th></th>\n",
              "      <th></th>\n",
              "      <th></th>\n",
              "      <th></th>\n",
              "      <th></th>\n",
              "      <th></th>\n",
              "      <th></th>\n",
              "    </tr>\n",
              "  </thead>\n",
              "  <tbody>\n",
              "    <tr>\n",
              "      <th>2021-09-01</th>\n",
              "      <td>3.15</td>\n",
              "      <td>3.49</td>\n",
              "      <td>3.15</td>\n",
              "      <td>3.49</td>\n",
              "      <td>3.45</td>\n",
              "      <td>3.490</td>\n",
              "      <td>2.85</td>\n",
              "      <td>3.100</td>\n",
              "      <td>2.87</td>\n",
              "      <td>3.27</td>\n",
              "      <td>24478400</td>\n",
              "      <td>89600</td>\n",
              "    </tr>\n",
              "    <tr>\n",
              "      <th>2021-09-02</th>\n",
              "      <td>3.10</td>\n",
              "      <td>3.16</td>\n",
              "      <td>3.10</td>\n",
              "      <td>3.16</td>\n",
              "      <td>3.40</td>\n",
              "      <td>3.401</td>\n",
              "      <td>3.01</td>\n",
              "      <td>3.160</td>\n",
              "      <td>3.36</td>\n",
              "      <td>3.40</td>\n",
              "      <td>10218500</td>\n",
              "      <td>40500</td>\n",
              "    </tr>\n",
              "    <tr>\n",
              "      <th>2021-09-03</th>\n",
              "      <td>3.15</td>\n",
              "      <td>3.47</td>\n",
              "      <td>3.15</td>\n",
              "      <td>3.47</td>\n",
              "      <td>3.31</td>\n",
              "      <td>3.470</td>\n",
              "      <td>3.00</td>\n",
              "      <td>3.179</td>\n",
              "      <td>3.15</td>\n",
              "      <td>3.22</td>\n",
              "      <td>7574400</td>\n",
              "      <td>117600</td>\n",
              "    </tr>\n",
              "    <tr>\n",
              "      <th>2021-09-07</th>\n",
              "      <td>3.28</td>\n",
              "      <td>3.41</td>\n",
              "      <td>3.28</td>\n",
              "      <td>3.41</td>\n",
              "      <td>3.41</td>\n",
              "      <td>3.470</td>\n",
              "      <td>3.12</td>\n",
              "      <td>3.357</td>\n",
              "      <td>3.21</td>\n",
              "      <td>3.37</td>\n",
              "      <td>15978400</td>\n",
              "      <td>30700</td>\n",
              "    </tr>\n",
              "    <tr>\n",
              "      <th>2021-09-08</th>\n",
              "      <td>2.86</td>\n",
              "      <td>3.39</td>\n",
              "      <td>2.86</td>\n",
              "      <td>3.39</td>\n",
              "      <td>3.23</td>\n",
              "      <td>3.472</td>\n",
              "      <td>2.85</td>\n",
              "      <td>3.310</td>\n",
              "      <td>3.21</td>\n",
              "      <td>3.40</td>\n",
              "      <td>12748500</td>\n",
              "      <td>23400</td>\n",
              "    </tr>\n",
              "  </tbody>\n",
              "</table>\n",
              "</div>"
            ],
            "text/plain": [
              "           Adj Close       Close        ...  Open          Volume        \n",
              "                GOTU   ZME  GOTU   ZME  ...  GOTU   ZME      GOTU     ZME\n",
              "Date                                    ...                              \n",
              "2021-09-01      3.15  3.49  3.15  3.49  ...  2.87  3.27  24478400   89600\n",
              "2021-09-02      3.10  3.16  3.10  3.16  ...  3.36  3.40  10218500   40500\n",
              "2021-09-03      3.15  3.47  3.15  3.47  ...  3.15  3.22   7574400  117600\n",
              "2021-09-07      3.28  3.41  3.28  3.41  ...  3.21  3.37  15978400   30700\n",
              "2021-09-08      2.86  3.39  2.86  3.39  ...  3.21  3.40  12748500   23400\n",
              "\n",
              "[5 rows x 12 columns]"
            ]
          },
          "metadata": {},
          "execution_count": 26
        }
      ]
    },
    {
      "cell_type": "markdown",
      "metadata": {
        "id": "JcMwgErJfzxV"
      },
      "source": [
        "**Stock price comparison**"
      ]
    },
    {
      "cell_type": "code",
      "metadata": {
        "colab": {
          "base_uri": "https://localhost:8080/",
          "height": 604
        },
        "id": "53mOLbxxsG-S",
        "outputId": "2ffcb515-2102-4c96-ba06-5d4e5dba1c40"
      },
      "source": [
        "df = stock_df['Close']\n",
        "ax = df.plot(title='Stock Price', fontsize=12, figsize=(20, 10))\n",
        "ax.set_xlabel(\"Date\")\n",
        "ax.set_ylabel(\"Closing Price\")\n",
        "\n",
        "plt.legend(loc='upper left', fontsize=12)\n",
        "plt.grid(True)\n",
        "plt.show()"
      ],
      "execution_count": 27,
      "outputs": [
        {
          "output_type": "display_data",
          "data": {
            "image/png": "[encoded data removed]",
            "text/plain": [
              "<Figure size 1440x720 with 1 Axes>"
            ]
          },
          "metadata": {
            "needs_background": "light"
          }
        }
      ]
    },
    {
      "cell_type": "markdown",
      "metadata": {
        "id": "QiDWWsJ9xDHw"
      },
      "source": [
        "**Stock's Volume Comparison**"
      ]
    },
    {
      "cell_type": "code",
      "metadata": {
        "colab": {
          "base_uri": "https://localhost:8080/",
          "height": 604
        },
        "id": "t8K8ZSdCsMA2",
        "outputId": "db7d9a06-e38b-41dd-e017-ad7c172d3975"
      },
      "source": [
        "df = stock_df['Volume']\n",
        "axis = df.plot(title='Stock Volume', fontsize=12, figsize=(20, 10))\n",
        "axis.set_xlabel(\"Date\")\n",
        "axis.set_ylabel(\"Volume\")\n",
        "\n",
        "# to remove scientific notation from matplotlib\n",
        "plt.gcf().axes[0].yaxis.get_major_formatter().set_scientific(False)\n",
        "\n",
        "plt.legend(loc='upper left', fontsize=12)\n",
        "plt.grid(True)\n",
        "plt.show()"
      ],
      "execution_count": 28,
      "outputs": [
        {
          "output_type": "display_data",
          "data": {
            "image/png": "[encoded data removed]",
            "text/plain": [
              "<Figure size 1440x720 with 1 Axes>"
            ]
          },
          "metadata": {
            "needs_background": "light"
          }
        }
      ]
    },
    {
      "cell_type": "code",
      "metadata": {
        "colab": {
          "base_uri": "https://localhost:8080/",
          "height": 238
        },
        "id": "vNK4io2Dsc9F",
        "outputId": "d8ac7404-da84-4b24-b36b-a489aa78f4aa"
      },
      "source": [
        "yahoo_financials = YahooFinancials(selected_stock[0])\n",
        "data = yahoo_financials.get_historical_price_data(start_date='2019-01-01', \n",
        "                                                  end_date='2021-12-1', \n",
        "                                                  time_interval='weekly')\n",
        "stock1_df = pd.DataFrame(data[selected_stock[0]]['prices'])\n",
        "stock1_df = stock1_df.drop('date', axis=1).set_index('formatted_date')\n",
        "stock1_df.head()"
      ],
      "execution_count": 29,
      "outputs": [
        {
          "output_type": "execute_result",
          "data": {
            "text/html": [
              "<div>\n",
              "<style scoped>\n",
              "    .dataframe tbody tr th:only-of-type {\n",
              "        vertical-align: middle;\n",
              "    }\n",
              "\n",
              "    .dataframe tbody tr th {\n",
              "        vertical-align: top;\n",
              "    }\n",
              "\n",
              "    .dataframe thead th {\n",
              "        text-align: right;\n",
              "    }\n",
              "</style>\n",
              "<table border=\"1\" class=\"dataframe\">\n",
              "  <thead>\n",
              "    <tr style=\"text-align: right;\">\n",
              "      <th></th>\n",
              "      <th>high</th>\n",
              "      <th>low</th>\n",
              "      <th>open</th>\n",
              "      <th>close</th>\n",
              "      <th>volume</th>\n",
              "      <th>adjclose</th>\n",
              "    </tr>\n",
              "    <tr>\n",
              "      <th>formatted_date</th>\n",
              "      <th></th>\n",
              "      <th></th>\n",
              "      <th></th>\n",
              "      <th></th>\n",
              "      <th></th>\n",
              "      <th></th>\n",
              "    </tr>\n",
              "  </thead>\n",
              "  <tbody>\n",
              "    <tr>\n",
              "      <th>2021-06-07</th>\n",
              "      <td>20.52</td>\n",
              "      <td>13.11</td>\n",
              "      <td>16.129999</td>\n",
              "      <td>13.43</td>\n",
              "      <td>3493900</td>\n",
              "      <td>13.43</td>\n",
              "    </tr>\n",
              "    <tr>\n",
              "      <th>2021-06-14</th>\n",
              "      <td>15.90</td>\n",
              "      <td>12.03</td>\n",
              "      <td>13.300000</td>\n",
              "      <td>12.87</td>\n",
              "      <td>1619000</td>\n",
              "      <td>12.87</td>\n",
              "    </tr>\n",
              "    <tr>\n",
              "      <th>2021-06-21</th>\n",
              "      <td>15.88</td>\n",
              "      <td>12.20</td>\n",
              "      <td>12.740000</td>\n",
              "      <td>14.67</td>\n",
              "      <td>1949200</td>\n",
              "      <td>14.67</td>\n",
              "    </tr>\n",
              "    <tr>\n",
              "      <th>2021-06-28</th>\n",
              "      <td>19.00</td>\n",
              "      <td>10.37</td>\n",
              "      <td>14.260000</td>\n",
              "      <td>11.12</td>\n",
              "      <td>9592400</td>\n",
              "      <td>11.12</td>\n",
              "    </tr>\n",
              "    <tr>\n",
              "      <th>2021-07-05</th>\n",
              "      <td>12.13</td>\n",
              "      <td>9.15</td>\n",
              "      <td>10.610000</td>\n",
              "      <td>10.84</td>\n",
              "      <td>1659400</td>\n",
              "      <td>10.84</td>\n",
              "    </tr>\n",
              "  </tbody>\n",
              "</table>\n",
              "</div>"
            ],
            "text/plain": [
              "                 high    low       open  close   volume  adjclose\n",
              "formatted_date                                                   \n",
              "2021-06-07      20.52  13.11  16.129999  13.43  3493900     13.43\n",
              "2021-06-14      15.90  12.03  13.300000  12.87  1619000     12.87\n",
              "2021-06-21      15.88  12.20  12.740000  14.67  1949200     14.67\n",
              "2021-06-28      19.00  10.37  14.260000  11.12  9592400     11.12\n",
              "2021-07-05      12.13   9.15  10.610000  10.84  1659400     10.84"
            ]
          },
          "metadata": {},
          "execution_count": 29
        }
      ]
    },
    {
      "cell_type": "code",
      "metadata": {
        "colab": {
          "base_uri": "https://localhost:8080/",
          "height": 175
        },
        "id": "_HLNEVuZsouT",
        "outputId": "68e9015a-e653-4d21-b74b-7c279d5af07d"
      },
      "source": [
        "yahoo_financials = YahooFinancials(selected_stock[1])\n",
        "data=yahoo_financials.get_historical_price_data(\"2021-11-01\", \"2022-01-1\", \"monthly\")\n",
        "stock2_df = pd.DataFrame(data[selected_stock[1]]['prices'])\n",
        "stock2_df = stock2_df.drop('date', axis=1).set_index('formatted_date')\n",
        "stock2_df.head()"
      ],
      "execution_count": 30,
      "outputs": [
        {
          "output_type": "execute_result",
          "data": {
            "text/html": [
              "<div>\n",
              "<style scoped>\n",
              "    .dataframe tbody tr th:only-of-type {\n",
              "        vertical-align: middle;\n",
              "    }\n",
              "\n",
              "    .dataframe tbody tr th {\n",
              "        vertical-align: top;\n",
              "    }\n",
              "\n",
              "    .dataframe thead th {\n",
              "        text-align: right;\n",
              "    }\n",
              "</style>\n",
              "<table border=\"1\" class=\"dataframe\">\n",
              "  <thead>\n",
              "    <tr style=\"text-align: right;\">\n",
              "      <th></th>\n",
              "      <th>high</th>\n",
              "      <th>low</th>\n",
              "      <th>open</th>\n",
              "      <th>close</th>\n",
              "      <th>volume</th>\n",
              "      <th>adjclose</th>\n",
              "    </tr>\n",
              "    <tr>\n",
              "      <th>formatted_date</th>\n",
              "      <th></th>\n",
              "      <th></th>\n",
              "      <th></th>\n",
              "      <th></th>\n",
              "      <th></th>\n",
              "      <th></th>\n",
              "    </tr>\n",
              "  </thead>\n",
              "  <tbody>\n",
              "    <tr>\n",
              "      <th>2021-11-01</th>\n",
              "      <td>3.42</td>\n",
              "      <td>2.520</td>\n",
              "      <td>3.00</td>\n",
              "      <td>2.67</td>\n",
              "      <td>192950100</td>\n",
              "      <td>2.67</td>\n",
              "    </tr>\n",
              "    <tr>\n",
              "      <th>2021-12-01</th>\n",
              "      <td>2.73</td>\n",
              "      <td>2.325</td>\n",
              "      <td>2.65</td>\n",
              "      <td>2.38</td>\n",
              "      <td>11355300</td>\n",
              "      <td>2.38</td>\n",
              "    </tr>\n",
              "    <tr>\n",
              "      <th>2021-12-02</th>\n",
              "      <td>2.48</td>\n",
              "      <td>2.325</td>\n",
              "      <td>2.42</td>\n",
              "      <td>2.38</td>\n",
              "      <td>4735530</td>\n",
              "      <td>2.38</td>\n",
              "    </tr>\n",
              "  </tbody>\n",
              "</table>\n",
              "</div>"
            ],
            "text/plain": [
              "                high    low  open  close     volume  adjclose\n",
              "formatted_date                                               \n",
              "2021-11-01      3.42  2.520  3.00   2.67  192950100      2.67\n",
              "2021-12-01      2.73  2.325  2.65   2.38   11355300      2.38\n",
              "2021-12-02      2.48  2.325  2.42   2.38    4735530      2.38"
            ]
          },
          "metadata": {},
          "execution_count": 30
        }
      ]
    },
    {
      "cell_type": "code",
      "metadata": {
        "id": "3dLAcP-sWI8q"
      },
      "source": [
        "import numpy as np\n",
        "from keras.models import Sequential\n",
        "from keras.layers import Dense, LSTM\n",
        "import math\n",
        "from sklearn.preprocessing import MinMaxScaler"
      ],
      "execution_count": 31,
      "outputs": []
    },
    {
      "cell_type": "markdown",
      "metadata": {
        "id": "EdzIAdTs6bh5"
      },
      "source": [
        "Creating a new Dataframe and Training data"
      ]
    },
    {
      "cell_type": "code",
      "metadata": {
        "id": "-XzfnQU5WdOb"
      },
      "source": [
        "# 1. Filter out the closing market price data\n",
        "close_data = stock1_df.filter(['close'])\n",
        "\n",
        "# 2. Convert the data into array for easy evaluation\n",
        "dataset = close_data.values\n",
        " \n",
        "# 3. Scale/Normalize the data to make all values between 0 and 1\n",
        "scaler = MinMaxScaler(feature_range=(0, 1))\n",
        "scaled_data = scaler.fit_transform(dataset)\n",
        " \n",
        "# 4. Creating training data size : 70% of the data\n",
        "training_data_len = math.ceil(len(dataset) *.7)\n",
        "train_data = scaled_data[0:training_data_len  , : ]\n",
        "\n",
        "# 5. Separating the data into x and y data\n",
        "x_train_data=[]\n",
        "y_train_data =[]\n",
        "for i in range(5,len(train_data)):\n",
        "    x_train_data=list(x_train_data)\n",
        "    y_train_data=list(y_train_data)\n",
        "    x_train_data.append(train_data[i-5:i,0])\n",
        "    y_train_data.append(train_data[i,0])\n",
        " \n",
        "    # 6. Converting the training x and y values to numpy arrays\n",
        "    x_train_data1, y_train_data1 = np.array(x_train_data), np.array(y_train_data)\n",
        " \n",
        "    # 7. Reshaping training s and y data to make the calculations easier\n",
        "    x_train_data2 = np.reshape(x_train_data1, (x_train_data1.shape[0],x_train_data1.shape[1],1))\n",
        "  \n",
        "print(x_train_data2)"
      ],
      "execution_count": null,
      "outputs": []
    },
    {
      "cell_type": "markdown",
      "metadata": {
        "id": "3c3LbbG36S8X"
      },
      "source": [
        "Building LSTM Mode"
      ]
    },
    {
      "cell_type": "code",
      "metadata": {
        "id": "hSnNdZ8TZTbo"
      },
      "source": [
        "model = Sequential()\n",
        "model.add(LSTM(units=50, return_sequences=True,input_shape=(x_train_data2.shape[1],1)))\n",
        "model.add(LSTM(units=50, return_sequences=False))\n",
        "model.add(Dense(units=25))\n",
        "model.add(Dense(units=1))"
      ],
      "execution_count": 35,
      "outputs": []
    },
    {
      "cell_type": "markdown",
      "metadata": {
        "id": "5MVU9gya6V1Z"
      },
      "source": [
        "Compiling the Model"
      ]
    },
    {
      "cell_type": "code",
      "metadata": {
        "colab": {
          "base_uri": "https://localhost:8080/"
        },
        "id": "2pe6gvoc6P8Q",
        "outputId": "84e61b71-2307-4270-a207-58db643738f5"
      },
      "source": [
        "model.compile(optimizer='adam', loss='mean_squared_error')\n",
        "model.fit(x_train_data2, y_train_data1, batch_size=1, epochs=1)"
      ],
      "execution_count": 36,
      "outputs": [
        {
          "output_type": "stream",
          "name": "stdout",
          "text": [
            "14/14 [==============================] - 3s 6ms/step - loss: 0.0321\n"
          ]
        },
        {
          "output_type": "execute_result",
          "data": {
            "text/plain": [
              "<keras.callbacks.History at 0x7ff2ef74bb10>"
            ]
          },
          "metadata": {},
          "execution_count": 36
        }
      ]
    },
    {
      "cell_type": "markdown",
      "metadata": {
        "id": "XE6uGAH46jBm"
      },
      "source": [
        "Testing the model on testing data"
      ]
    },
    {
      "cell_type": "code",
      "metadata": {
        "colab": {
          "base_uri": "https://localhost:8080/"
        },
        "id": "YnxwTNol6jp0",
        "outputId": "831a1dc4-58b0-4690-c8b2-6342cef8291d"
      },
      "source": [
        "# Creating a dataset for testing\n",
        "test_data = scaled_data[training_data_len - 5: , : ]\n",
        "x_test = []\n",
        "y_test =  dataset[training_data_len : , : ]\n",
        "for i in range(5,len(test_data)):\n",
        "    x_test.append(test_data[i-5:i,0])\n",
        " \n",
        "# 2.  Convert the values into arrays for easier computation\n",
        "x_test = np.array(x_test)\n",
        "x_test = np.reshape(x_test, (x_test.shape[0],x_test.shape[1],1))\n",
        " \n",
        "# 3. Making predictions on the testing data\n",
        "predictions = model.predict(x_test)\n",
        "predictions = scaler.inverse_transform(predictions)"
      ],
      "execution_count": 47,
      "outputs": [
        {
          "output_type": "stream",
          "name": "stdout",
          "text": [
            "[[3.557973 ]\n",
            " [3.5223563]\n",
            " [3.4779854]\n",
            " [3.4221857]\n",
            " [3.3591228]\n",
            " [3.3080916]\n",
            " [3.254205 ]]\n"
          ]
        }
      ]
    },
    {
      "cell_type": "markdown",
      "metadata": {
        "id": "R67TYPz860Pr"
      },
      "source": [
        "Error Calculation"
      ]
    },
    {
      "cell_type": "code",
      "metadata": {
        "colab": {
          "base_uri": "https://localhost:8080/"
        },
        "id": "pefqFDMA6zxa",
        "outputId": "a05a03c5-e7ea-43bd-81ea-7121fc1ebaf4"
      },
      "source": [
        "rmse=np.sqrt(np.mean(((predictions- y_test)**2)))\n",
        "print(rmse)"
      ],
      "execution_count": 44,
      "outputs": [
        {
          "output_type": "stream",
          "name": "stdout",
          "text": [
            "1.7020202194747205\n"
          ]
        }
      ]
    },
    {
      "cell_type": "markdown",
      "metadata": {
        "id": "tnvv8ebN6-68"
      },
      "source": [
        "Make Predictions"
      ]
    },
    {
      "cell_type": "code",
      "metadata": {
        "colab": {
          "base_uri": "https://localhost:8080/",
          "height": 514
        },
        "id": "Gvz8HcTu7D3V",
        "outputId": "89ef2238-86c7-4e45-ea8b-42fe9024eb31"
      },
      "source": [
        "train = scaled_data[:training_data_len]\n",
        "valid = scaled_data[training_data_len:]\n",
        "valid['Predictions'] = predictions\n",
        " \n",
        "plt.title('Model')\n",
        "plt.xlabel('Date')\n",
        "plt.ylabel('Close')\n",
        " \n",
        "plt.plot(train['close'])\n",
        "plt.plot(valid[['close', 'Predictions']])\n",
        " \n",
        "plt.legend(['Train', 'Val', 'Predictions'], loc='lower right')\n",
        " \n",
        "plt.show()"
      ],
      "execution_count": 52,
      "outputs": [
        {
          "output_type": "error",
          "ename": "IndexError",
          "evalue": "ignored",
          "traceback": [
            "\u001b[0;31m---------------------------------------------------------------------------\u001b[0m",
            "\u001b[0;31mIndexError\u001b[0m                                Traceback (most recent call last)",
            "\u001b[0;32m<ipython-input-52-89352f48ffae>\u001b[0m in \u001b[0;36m<module>\u001b[0;34m()\u001b[0m\n\u001b[1;32m      7\u001b[0m \u001b[0mplt\u001b[0m\u001b[0;34m.\u001b[0m\u001b[0mylabel\u001b[0m\u001b[0;34m(\u001b[0m\u001b[0;34m'Close'\u001b[0m\u001b[0;34m)\u001b[0m\u001b[0;34m\u001b[0m\u001b[0;34m\u001b[0m\u001b[0m\n\u001b[1;32m      8\u001b[0m \u001b[0;34m\u001b[0m\u001b[0m\n\u001b[0;32m----> 9\u001b[0;31m \u001b[0mplt\u001b[0m\u001b[0;34m.\u001b[0m\u001b[0mplot\u001b[0m\u001b[0;34m(\u001b[0m\u001b[0mtrain\u001b[0m\u001b[0;34m[\u001b[0m\u001b[0;34m'close'\u001b[0m\u001b[0;34m]\u001b[0m\u001b[0;34m)\u001b[0m\u001b[0;34m\u001b[0m\u001b[0;34m\u001b[0m\u001b[0m\n\u001b[0m\u001b[1;32m     10\u001b[0m \u001b[0mplt\u001b[0m\u001b[0;34m.\u001b[0m\u001b[0mplot\u001b[0m\u001b[0;34m(\u001b[0m\u001b[0mpredictions\u001b[0m\u001b[0;34m)\u001b[0m\u001b[0;34m\u001b[0m\u001b[0;34m\u001b[0m\u001b[0m\n\u001b[1;32m     11\u001b[0m \u001b[0;34m\u001b[0m\u001b[0m\n",
            "\u001b[0;31mIndexError\u001b[0m: only integers, slices (`:`), ellipsis (`...`), numpy.newaxis (`None`) and integer or boolean arrays are valid indices"
          ]
        },
        {
          "output_type": "display_data",
          "data": {
            "image/png": "[encoded data removed]",
            "text/plain": [
              "<Figure size 432x288 with 1 Axes>"
            ]
          },
          "metadata": {
            "needs_background": "light"
          }
        }
      ]
    }
  ]
}